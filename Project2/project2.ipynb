{
 "cells": [
  {
   "cell_type": "markdown",
   "metadata": {},
   "source": [
    "# NF264- Project 2: Digit recognizer\n",
    "\n",
    "We  are  working  for  a  small  company  that  provides  machine learning  solutions  for  its  customers.   The  postal  office  needs an  AI system  to  automatically  deliver  mail.   As  a  part  of  the  system,  they  need a computer  program  that  recognises  handwritten  digits. We are providing  this  program  and  as machine  learning  experts, we write  the code that produces a classifier and this report that describes what we have done."
   ]
  },
  {
   "cell_type": "code",
   "execution_count": 1,
   "metadata": {},
   "outputs": [
    {
     "name": "stderr",
     "output_type": "stream",
     "text": [
      "C:\\Users\\elias\\Miniconda3\\envs\\tf\\lib\\site-packages\\tensorflow\\python\\framework\\dtypes.py:523: FutureWarning:\n",
      "\n",
      "Passing (type, 1) or '1type' as a synonym of type is deprecated; in a future version of numpy, it will be understood as (type, (1,)) / '(1,)type'.\n",
      "\n",
      "C:\\Users\\elias\\Miniconda3\\envs\\tf\\lib\\site-packages\\tensorflow\\python\\framework\\dtypes.py:524: FutureWarning:\n",
      "\n",
      "Passing (type, 1) or '1type' as a synonym of type is deprecated; in a future version of numpy, it will be understood as (type, (1,)) / '(1,)type'.\n",
      "\n",
      "C:\\Users\\elias\\Miniconda3\\envs\\tf\\lib\\site-packages\\tensorflow\\python\\framework\\dtypes.py:525: FutureWarning:\n",
      "\n",
      "Passing (type, 1) or '1type' as a synonym of type is deprecated; in a future version of numpy, it will be understood as (type, (1,)) / '(1,)type'.\n",
      "\n",
      "C:\\Users\\elias\\Miniconda3\\envs\\tf\\lib\\site-packages\\tensorflow\\python\\framework\\dtypes.py:526: FutureWarning:\n",
      "\n",
      "Passing (type, 1) or '1type' as a synonym of type is deprecated; in a future version of numpy, it will be understood as (type, (1,)) / '(1,)type'.\n",
      "\n",
      "C:\\Users\\elias\\Miniconda3\\envs\\tf\\lib\\site-packages\\tensorflow\\python\\framework\\dtypes.py:527: FutureWarning:\n",
      "\n",
      "Passing (type, 1) or '1type' as a synonym of type is deprecated; in a future version of numpy, it will be understood as (type, (1,)) / '(1,)type'.\n",
      "\n",
      "C:\\Users\\elias\\Miniconda3\\envs\\tf\\lib\\site-packages\\tensorflow\\python\\framework\\dtypes.py:532: FutureWarning:\n",
      "\n",
      "Passing (type, 1) or '1type' as a synonym of type is deprecated; in a future version of numpy, it will be understood as (type, (1,)) / '(1,)type'.\n",
      "\n",
      "Intel(R) Extension for Scikit-learn* enabled (https://github.com/intel/scikit-learn-intelex)\n"
     ]
    }
   ],
   "source": [
    "import pandas as pd\n",
    "import numpy as np\n",
    "import plotly.express as px\n",
    "import tensorflow as tf \n",
    "from sklearnex import patch_sklearn\n",
    "patch_sklearn()"
   ]
  },
  {
   "cell_type": "markdown",
   "metadata": {},
   "source": [
    "## The Dataset\n",
    "The MNIST dataset consist of 70000 images of handwritten digits. Each image consist of a 28x28 pixel images with a grayscale value between 0-255. They are given as a list of 70000 with each list having length 28x28 = 784. Which is confirmed by the shape printed below."
   ]
  },
  {
   "cell_type": "code",
   "execution_count": 2,
   "metadata": {},
   "outputs": [
    {
     "name": "stdout",
     "output_type": "stream",
     "text": [
      "(70000, 784)\n"
     ]
    }
   ],
   "source": [
    "X = pd.read_csv('handwritten_digits_images.csv', header=None).to_numpy()\n",
    "y = pd.read_csv('handwritten_digits_labels.csv', header=None).to_numpy()\n",
    "print(X.shape)"
   ]
  },
  {
   "cell_type": "markdown",
   "metadata": {},
   "source": [
    "## Preprocessing steps\n",
    "The labels of each images is represented as a digit between 0 and 9. We can make this label categorical, meaning they are all represented the same way as a bit array with 10 elements, where for example 4 is a 1 at the 5th index.\n",
    "\n",
    "We also want to normalize the grayscale values from 0-255 to 0-1"
   ]
  },
  {
   "cell_type": "code",
   "execution_count": 3,
   "metadata": {},
   "outputs": [
    {
     "name": "stderr",
     "output_type": "stream",
     "text": [
      "Using TensorFlow backend.\n"
     ]
    }
   ],
   "source": [
    "from keras.utils import to_categorical\n",
    "\n",
    "y = to_categorical(y)\n",
    "\n",
    "# Normalize to range 0-1\n",
    "X = X.astype('float32')\n",
    "X = X / 255.0"
   ]
  },
  {
   "cell_type": "markdown",
   "metadata": {},
   "source": [
    "Here is an example of a image and its corresponding label."
   ]
  },
  {
   "cell_type": "code",
   "execution_count": 4,
   "metadata": {},
   "outputs": [
    {
     "name": "stdout",
     "output_type": "stream",
     "text": [
      "[0. 0. 1. 0. 0. 0. 0. 0. 0. 0.]\n"
     ]
    },
    {
     "data": {
      "application/vnd.plotly.v1+json": {
       "config": {
        "plotlyServerURL": "https://plot.ly"
       },
       "data": [
        {
         "coloraxis": "coloraxis",
         "hovertemplate": "x: %{x}<br>y: %{y}<br>color: %{z}<extra></extra>",
         "name": "0",
         "type": "heatmap",
         "xaxis": "x",
         "yaxis": "y",
         "z": [
          [
           0,
           0,
           0,
           0,
           0,
           0,
           0,
           0,
           0,
           0,
           0,
           0,
           0,
           0,
           0,
           0,
           0,
           0,
           0,
           0,
           0,
           0,
           0,
           0,
           0,
           0,
           0,
           0
          ],
          [
           0,
           0,
           0,
           0,
           0,
           0,
           0,
           0,
           0,
           0,
           0,
           0,
           0,
           0,
           0,
           0,
           0,
           0,
           0,
           0,
           0,
           0,
           0,
           0,
           0,
           0,
           0,
           0
          ],
          [
           0,
           0,
           0,
           0,
           0,
           0,
           0,
           0,
           0,
           0,
           0,
           0,
           0,
           0,
           0,
           0,
           0,
           0,
           0,
           0,
           0,
           0,
           0,
           0,
           0,
           0,
           0,
           0
          ],
          [
           0,
           0,
           0,
           0,
           0,
           0,
           0,
           0,
           0,
           0,
           0,
           0,
           0,
           0,
           0.20000000298023224,
           0.4431372582912445,
           0.4431372582912445,
           0.4431372582912445,
           0.4431372582912445,
           0,
           0,
           0,
           0,
           0,
           0,
           0,
           0,
           0
          ],
          [
           0,
           0,
           0,
           0,
           0,
           0,
           0,
           0,
           0,
           0,
           0,
           0,
           0,
           0,
           0.9333333373069763,
           0.9882352948188782,
           0.9882352948188782,
           0.9882352948188782,
           0.9882352948188782,
           0.886274516582489,
           0.6980392336845398,
           0.25882354378700256,
           0,
           0,
           0,
           0,
           0,
           0
          ],
          [
           0,
           0,
           0,
           0,
           0,
           0,
           0,
           0,
           0,
           0,
           0,
           0,
           0,
           0,
           0.8705882430076599,
           0.9882352948188782,
           0.9882352948188782,
           0.9882352948188782,
           0.9882352948188782,
           0.9921568632125854,
           0.9882352948188782,
           0.9372549057006836,
           0.25882354378700256,
           0,
           0,
           0,
           0,
           0
          ],
          [
           0,
           0,
           0,
           0,
           0,
           0,
           0,
           0,
           0,
           0,
           0,
           0,
           0,
           0,
           0.14901961386203766,
           0.5098039507865906,
           0.9647058844566345,
           0.9882352948188782,
           0.9882352948188782,
           0.9921568632125854,
           0.9882352948188782,
           0.9882352948188782,
           0.6941176652908325,
           0,
           0,
           0,
           0,
           0
          ],
          [
           0,
           0,
           0,
           0,
           0,
           0,
           0,
           0,
           0,
           0,
           0,
           0,
           0,
           0,
           0,
           0,
           0.3450980484485626,
           0.8039215803146362,
           0.9882352948188782,
           0.9921568632125854,
           0.9882352948188782,
           0.9882352948188782,
           0.9372549057006836,
           0.5490196347236633,
           0,
           0,
           0,
           0
          ],
          [
           0,
           0,
           0,
           0,
           0,
           0,
           0,
           0,
           0,
           0,
           0,
           0,
           0,
           0,
           0,
           0,
           0,
           0,
           0,
           1,
           0.9921568632125854,
           0.9921568632125854,
           0.9921568632125854,
           0.7450980544090271,
           0,
           0,
           0,
           0
          ],
          [
           0,
           0,
           0,
           0,
           0,
           0,
           0,
           0,
           0,
           0,
           0,
           0,
           0,
           0,
           0,
           0,
           0,
           0.2862745225429535,
           0.8823529481887817,
           0.9921568632125854,
           0.9882352948188782,
           0.9882352948188782,
           0.7019608020782471,
           0.0470588244497776,
           0,
           0,
           0,
           0
          ],
          [
           0,
           0,
           0,
           0,
           0,
           0,
           0,
           0,
           0,
           0,
           0,
           0,
           0,
           0,
           0,
           0.07450980693101883,
           0.3450980484485626,
           0.9176470637321472,
           0.9882352948188782,
           0.9921568632125854,
           0.9882352948188782,
           0.9372549057006836,
           0.2549019753932953,
           0,
           0,
           0,
           0,
           0
          ],
          [
           0,
           0,
           0,
           0,
           0,
           0,
           0,
           0,
           0,
           0,
           0,
           0,
           0,
           0,
           0.11372549086809158,
           0.7098039388656616,
           0.9882352948188782,
           0.9882352948188782,
           0.9882352948188782,
           0.9921568632125854,
           0.9490196108818054,
           0.3764705955982208,
           0,
           0,
           0,
           0,
           0,
           0
          ],
          [
           0,
           0,
           0,
           0,
           0,
           0,
           0,
           0,
           0,
           0,
           0,
           0,
           0.37254902720451355,
           0.5490196347236633,
           0.9921568632125854,
           0.9882352948188782,
           0.9882352948188782,
           0.9882352948188782,
           0.9882352948188782,
           0.7450980544090271,
           0.29019609093666077,
           0,
           0,
           0,
           0,
           0,
           0,
           0
          ],
          [
           0,
           0,
           0,
           0,
           0,
           0,
           0,
           0,
           0,
           0,
           0.3960784375667572,
           0.8705882430076599,
           0.9921568632125854,
           0.9921568632125854,
           1,
           0.9921568632125854,
           0.9921568632125854,
           0.6980392336845398,
           0.24705882370471954,
           0,
           0,
           0,
           0,
           0,
           0,
           0,
           0,
           0
          ],
          [
           0,
           0,
           0,
           0,
           0,
           0,
           0.07450980693101883,
           0.3333333432674408,
           0.3333333432674408,
           0.886274516582489,
           0.9764705896377563,
           0.9882352948188782,
           0.9882352948188782,
           0.9882352948188782,
           0.9921568632125854,
           0.8745098114013672,
           0.5333333611488342,
           0.03529411926865578,
           0,
           0,
           0,
           0,
           0,
           0,
           0,
           0,
           0,
           0
          ],
          [
           0,
           0,
           0,
           0,
           0.2235294133424759,
           0.40784314274787903,
           0.8196078538894653,
           0.9882352948188782,
           0.9882352948188782,
           0.9921568632125854,
           0.9882352948188782,
           0.9882352948188782,
           0.9882352948188782,
           0.9882352948188782,
           0.5215686559677124,
           0.14509804546833038,
           0,
           0,
           0,
           0,
           0,
           0,
           0,
           0,
           0,
           0,
           0,
           0
          ],
          [
           0,
           0,
           0,
           0,
           0.6823529601097107,
           0.9882352948188782,
           0.9882352948188782,
           0.9882352948188782,
           0.9882352948188782,
           0.9921568632125854,
           0.9882352948188782,
           0.9882352948188782,
           0.8509804010391235,
           0.3294117748737335,
           0,
           0,
           0,
           0,
           0,
           0,
           0,
           0,
           0,
           0,
           0,
           0,
           0,
           0
          ],
          [
           0,
           0,
           0,
           0,
           0.9921568632125854,
           0.9882352948188782,
           0.9882352948188782,
           0.9882352948188782,
           0.9882352948188782,
           0.9921568632125854,
           0.9882352948188782,
           0.5529412031173706,
           0.14509804546833038,
           0,
           0,
           0,
           0,
           0,
           0,
           0,
           0,
           0,
           0,
           0,
           0,
           0,
           0,
           0
          ],
          [
           0,
           0,
           0,
           0,
           1,
           0.9921568632125854,
           0.9921568632125854,
           0.9921568632125854,
           0.9921568632125854,
           1,
           0.8078431487083435,
           0.4431372582912445,
           0.4431372582912445,
           0.4431372582912445,
           0.4470588266849518,
           0.4431372582912445,
           0.4431372582912445,
           0.4431372582912445,
           0.4431372582912445,
           0,
           0,
           0,
           0,
           0,
           0,
           0,
           0,
           0
          ],
          [
           0,
           0,
           0,
           0,
           0.658823549747467,
           0.9529411792755127,
           0.9882352948188782,
           0.9882352948188782,
           0.9882352948188782,
           0.9921568632125854,
           0.9882352948188782,
           0.9882352948188782,
           0.9882352948188782,
           0.9882352948188782,
           0.9921568632125854,
           0.9882352948188782,
           0.9882352948188782,
           0.9882352948188782,
           0.9882352948188782,
           0.886274516582489,
           0.8823529481887817,
           0.8823529481887817,
           0.29411765933036804,
           0,
           0,
           0,
           0,
           0
          ],
          [
           0,
           0,
           0,
           0,
           0,
           0.3803921639919281,
           0.9372549057006836,
           0.9882352948188782,
           0.9882352948188782,
           0.9921568632125854,
           0.9882352948188782,
           0.9882352948188782,
           0.9882352948188782,
           0.9882352948188782,
           0.9921568632125854,
           0.9882352948188782,
           0.9882352948188782,
           0.9882352948188782,
           0.9882352948188782,
           0.9921568632125854,
           0.9882352948188782,
           0.9372549057006836,
           0.2549019753932953,
           0,
           0,
           0,
           0,
           0
          ],
          [
           0,
           0,
           0,
           0,
           0,
           0,
           0.25882354378700256,
           0.38823530077934265,
           0.8745098114013672,
           0.8823529481887817,
           0.8745098114013672,
           0.8745098114013672,
           0.8745098114013672,
           0.8745098114013672,
           0.8823529481887817,
           0.6901960968971252,
           0.3294117748737335,
           0.3294117748737335,
           0.3294117748737335,
           0.3294117748737335,
           0.3294117748737335,
           0.2549019753932953,
           0,
           0,
           0,
           0,
           0,
           0
          ],
          [
           0,
           0,
           0,
           0,
           0,
           0,
           0,
           0,
           0,
           0,
           0,
           0,
           0,
           0,
           0,
           0,
           0,
           0,
           0,
           0,
           0,
           0,
           0,
           0,
           0,
           0,
           0,
           0
          ],
          [
           0,
           0,
           0,
           0,
           0,
           0,
           0,
           0,
           0,
           0,
           0,
           0,
           0,
           0,
           0,
           0,
           0,
           0,
           0,
           0,
           0,
           0,
           0,
           0,
           0,
           0,
           0,
           0
          ],
          [
           0,
           0,
           0,
           0,
           0,
           0,
           0,
           0,
           0,
           0,
           0,
           0,
           0,
           0,
           0,
           0,
           0,
           0,
           0,
           0,
           0,
           0,
           0,
           0,
           0,
           0,
           0,
           0
          ],
          [
           0,
           0,
           0,
           0,
           0,
           0,
           0,
           0,
           0,
           0,
           0,
           0,
           0,
           0,
           0,
           0,
           0,
           0,
           0,
           0,
           0,
           0,
           0,
           0,
           0,
           0,
           0,
           0
          ],
          [
           0,
           0,
           0,
           0,
           0,
           0,
           0,
           0,
           0,
           0,
           0,
           0,
           0,
           0,
           0,
           0,
           0,
           0,
           0,
           0,
           0,
           0,
           0,
           0,
           0,
           0,
           0,
           0
          ],
          [
           0,
           0,
           0,
           0,
           0,
           0,
           0,
           0,
           0,
           0,
           0,
           0,
           0,
           0,
           0,
           0,
           0,
           0,
           0,
           0,
           0,
           0,
           0,
           0,
           0,
           0,
           0,
           0
          ]
         ]
        }
       ],
       "layout": {
        "coloraxis": {
         "colorscale": [
          [
           0,
           "white"
          ],
          [
           1,
           "black"
          ]
         ]
        },
        "margin": {
         "t": 60
        },
        "template": {
         "data": {
          "bar": [
           {
            "error_x": {
             "color": "#2a3f5f"
            },
            "error_y": {
             "color": "#2a3f5f"
            },
            "marker": {
             "line": {
              "color": "#E5ECF6",
              "width": 0.5
             }
            },
            "type": "bar"
           }
          ],
          "barpolar": [
           {
            "marker": {
             "line": {
              "color": "#E5ECF6",
              "width": 0.5
             }
            },
            "type": "barpolar"
           }
          ],
          "carpet": [
           {
            "aaxis": {
             "endlinecolor": "#2a3f5f",
             "gridcolor": "white",
             "linecolor": "white",
             "minorgridcolor": "white",
             "startlinecolor": "#2a3f5f"
            },
            "baxis": {
             "endlinecolor": "#2a3f5f",
             "gridcolor": "white",
             "linecolor": "white",
             "minorgridcolor": "white",
             "startlinecolor": "#2a3f5f"
            },
            "type": "carpet"
           }
          ],
          "choropleth": [
           {
            "colorbar": {
             "outlinewidth": 0,
             "ticks": ""
            },
            "type": "choropleth"
           }
          ],
          "contour": [
           {
            "colorbar": {
             "outlinewidth": 0,
             "ticks": ""
            },
            "colorscale": [
             [
              0,
              "#0d0887"
             ],
             [
              0.1111111111111111,
              "#46039f"
             ],
             [
              0.2222222222222222,
              "#7201a8"
             ],
             [
              0.3333333333333333,
              "#9c179e"
             ],
             [
              0.4444444444444444,
              "#bd3786"
             ],
             [
              0.5555555555555556,
              "#d8576b"
             ],
             [
              0.6666666666666666,
              "#ed7953"
             ],
             [
              0.7777777777777778,
              "#fb9f3a"
             ],
             [
              0.8888888888888888,
              "#fdca26"
             ],
             [
              1,
              "#f0f921"
             ]
            ],
            "type": "contour"
           }
          ],
          "contourcarpet": [
           {
            "colorbar": {
             "outlinewidth": 0,
             "ticks": ""
            },
            "type": "contourcarpet"
           }
          ],
          "heatmap": [
           {
            "colorbar": {
             "outlinewidth": 0,
             "ticks": ""
            },
            "colorscale": [
             [
              0,
              "#0d0887"
             ],
             [
              0.1111111111111111,
              "#46039f"
             ],
             [
              0.2222222222222222,
              "#7201a8"
             ],
             [
              0.3333333333333333,
              "#9c179e"
             ],
             [
              0.4444444444444444,
              "#bd3786"
             ],
             [
              0.5555555555555556,
              "#d8576b"
             ],
             [
              0.6666666666666666,
              "#ed7953"
             ],
             [
              0.7777777777777778,
              "#fb9f3a"
             ],
             [
              0.8888888888888888,
              "#fdca26"
             ],
             [
              1,
              "#f0f921"
             ]
            ],
            "type": "heatmap"
           }
          ],
          "heatmapgl": [
           {
            "colorbar": {
             "outlinewidth": 0,
             "ticks": ""
            },
            "colorscale": [
             [
              0,
              "#0d0887"
             ],
             [
              0.1111111111111111,
              "#46039f"
             ],
             [
              0.2222222222222222,
              "#7201a8"
             ],
             [
              0.3333333333333333,
              "#9c179e"
             ],
             [
              0.4444444444444444,
              "#bd3786"
             ],
             [
              0.5555555555555556,
              "#d8576b"
             ],
             [
              0.6666666666666666,
              "#ed7953"
             ],
             [
              0.7777777777777778,
              "#fb9f3a"
             ],
             [
              0.8888888888888888,
              "#fdca26"
             ],
             [
              1,
              "#f0f921"
             ]
            ],
            "type": "heatmapgl"
           }
          ],
          "histogram": [
           {
            "marker": {
             "colorbar": {
              "outlinewidth": 0,
              "ticks": ""
             }
            },
            "type": "histogram"
           }
          ],
          "histogram2d": [
           {
            "colorbar": {
             "outlinewidth": 0,
             "ticks": ""
            },
            "colorscale": [
             [
              0,
              "#0d0887"
             ],
             [
              0.1111111111111111,
              "#46039f"
             ],
             [
              0.2222222222222222,
              "#7201a8"
             ],
             [
              0.3333333333333333,
              "#9c179e"
             ],
             [
              0.4444444444444444,
              "#bd3786"
             ],
             [
              0.5555555555555556,
              "#d8576b"
             ],
             [
              0.6666666666666666,
              "#ed7953"
             ],
             [
              0.7777777777777778,
              "#fb9f3a"
             ],
             [
              0.8888888888888888,
              "#fdca26"
             ],
             [
              1,
              "#f0f921"
             ]
            ],
            "type": "histogram2d"
           }
          ],
          "histogram2dcontour": [
           {
            "colorbar": {
             "outlinewidth": 0,
             "ticks": ""
            },
            "colorscale": [
             [
              0,
              "#0d0887"
             ],
             [
              0.1111111111111111,
              "#46039f"
             ],
             [
              0.2222222222222222,
              "#7201a8"
             ],
             [
              0.3333333333333333,
              "#9c179e"
             ],
             [
              0.4444444444444444,
              "#bd3786"
             ],
             [
              0.5555555555555556,
              "#d8576b"
             ],
             [
              0.6666666666666666,
              "#ed7953"
             ],
             [
              0.7777777777777778,
              "#fb9f3a"
             ],
             [
              0.8888888888888888,
              "#fdca26"
             ],
             [
              1,
              "#f0f921"
             ]
            ],
            "type": "histogram2dcontour"
           }
          ],
          "mesh3d": [
           {
            "colorbar": {
             "outlinewidth": 0,
             "ticks": ""
            },
            "type": "mesh3d"
           }
          ],
          "parcoords": [
           {
            "line": {
             "colorbar": {
              "outlinewidth": 0,
              "ticks": ""
             }
            },
            "type": "parcoords"
           }
          ],
          "pie": [
           {
            "automargin": true,
            "type": "pie"
           }
          ],
          "scatter": [
           {
            "marker": {
             "colorbar": {
              "outlinewidth": 0,
              "ticks": ""
             }
            },
            "type": "scatter"
           }
          ],
          "scatter3d": [
           {
            "line": {
             "colorbar": {
              "outlinewidth": 0,
              "ticks": ""
             }
            },
            "marker": {
             "colorbar": {
              "outlinewidth": 0,
              "ticks": ""
             }
            },
            "type": "scatter3d"
           }
          ],
          "scattercarpet": [
           {
            "marker": {
             "colorbar": {
              "outlinewidth": 0,
              "ticks": ""
             }
            },
            "type": "scattercarpet"
           }
          ],
          "scattergeo": [
           {
            "marker": {
             "colorbar": {
              "outlinewidth": 0,
              "ticks": ""
             }
            },
            "type": "scattergeo"
           }
          ],
          "scattergl": [
           {
            "marker": {
             "colorbar": {
              "outlinewidth": 0,
              "ticks": ""
             }
            },
            "type": "scattergl"
           }
          ],
          "scattermapbox": [
           {
            "marker": {
             "colorbar": {
              "outlinewidth": 0,
              "ticks": ""
             }
            },
            "type": "scattermapbox"
           }
          ],
          "scatterpolar": [
           {
            "marker": {
             "colorbar": {
              "outlinewidth": 0,
              "ticks": ""
             }
            },
            "type": "scatterpolar"
           }
          ],
          "scatterpolargl": [
           {
            "marker": {
             "colorbar": {
              "outlinewidth": 0,
              "ticks": ""
             }
            },
            "type": "scatterpolargl"
           }
          ],
          "scatterternary": [
           {
            "marker": {
             "colorbar": {
              "outlinewidth": 0,
              "ticks": ""
             }
            },
            "type": "scatterternary"
           }
          ],
          "surface": [
           {
            "colorbar": {
             "outlinewidth": 0,
             "ticks": ""
            },
            "colorscale": [
             [
              0,
              "#0d0887"
             ],
             [
              0.1111111111111111,
              "#46039f"
             ],
             [
              0.2222222222222222,
              "#7201a8"
             ],
             [
              0.3333333333333333,
              "#9c179e"
             ],
             [
              0.4444444444444444,
              "#bd3786"
             ],
             [
              0.5555555555555556,
              "#d8576b"
             ],
             [
              0.6666666666666666,
              "#ed7953"
             ],
             [
              0.7777777777777778,
              "#fb9f3a"
             ],
             [
              0.8888888888888888,
              "#fdca26"
             ],
             [
              1,
              "#f0f921"
             ]
            ],
            "type": "surface"
           }
          ],
          "table": [
           {
            "cells": {
             "fill": {
              "color": "#EBF0F8"
             },
             "line": {
              "color": "white"
             }
            },
            "header": {
             "fill": {
              "color": "#C8D4E3"
             },
             "line": {
              "color": "white"
             }
            },
            "type": "table"
           }
          ]
         },
         "layout": {
          "annotationdefaults": {
           "arrowcolor": "#2a3f5f",
           "arrowhead": 0,
           "arrowwidth": 1
          },
          "autotypenumbers": "strict",
          "coloraxis": {
           "colorbar": {
            "outlinewidth": 0,
            "ticks": ""
           }
          },
          "colorscale": {
           "diverging": [
            [
             0,
             "#8e0152"
            ],
            [
             0.1,
             "#c51b7d"
            ],
            [
             0.2,
             "#de77ae"
            ],
            [
             0.3,
             "#f1b6da"
            ],
            [
             0.4,
             "#fde0ef"
            ],
            [
             0.5,
             "#f7f7f7"
            ],
            [
             0.6,
             "#e6f5d0"
            ],
            [
             0.7,
             "#b8e186"
            ],
            [
             0.8,
             "#7fbc41"
            ],
            [
             0.9,
             "#4d9221"
            ],
            [
             1,
             "#276419"
            ]
           ],
           "sequential": [
            [
             0,
             "#0d0887"
            ],
            [
             0.1111111111111111,
             "#46039f"
            ],
            [
             0.2222222222222222,
             "#7201a8"
            ],
            [
             0.3333333333333333,
             "#9c179e"
            ],
            [
             0.4444444444444444,
             "#bd3786"
            ],
            [
             0.5555555555555556,
             "#d8576b"
            ],
            [
             0.6666666666666666,
             "#ed7953"
            ],
            [
             0.7777777777777778,
             "#fb9f3a"
            ],
            [
             0.8888888888888888,
             "#fdca26"
            ],
            [
             1,
             "#f0f921"
            ]
           ],
           "sequentialminus": [
            [
             0,
             "#0d0887"
            ],
            [
             0.1111111111111111,
             "#46039f"
            ],
            [
             0.2222222222222222,
             "#7201a8"
            ],
            [
             0.3333333333333333,
             "#9c179e"
            ],
            [
             0.4444444444444444,
             "#bd3786"
            ],
            [
             0.5555555555555556,
             "#d8576b"
            ],
            [
             0.6666666666666666,
             "#ed7953"
            ],
            [
             0.7777777777777778,
             "#fb9f3a"
            ],
            [
             0.8888888888888888,
             "#fdca26"
            ],
            [
             1,
             "#f0f921"
            ]
           ]
          },
          "colorway": [
           "#636efa",
           "#EF553B",
           "#00cc96",
           "#ab63fa",
           "#FFA15A",
           "#19d3f3",
           "#FF6692",
           "#B6E880",
           "#FF97FF",
           "#FECB52"
          ],
          "font": {
           "color": "#2a3f5f"
          },
          "geo": {
           "bgcolor": "white",
           "lakecolor": "white",
           "landcolor": "#E5ECF6",
           "showlakes": true,
           "showland": true,
           "subunitcolor": "white"
          },
          "hoverlabel": {
           "align": "left"
          },
          "hovermode": "closest",
          "mapbox": {
           "style": "light"
          },
          "paper_bgcolor": "white",
          "plot_bgcolor": "#E5ECF6",
          "polar": {
           "angularaxis": {
            "gridcolor": "white",
            "linecolor": "white",
            "ticks": ""
           },
           "bgcolor": "#E5ECF6",
           "radialaxis": {
            "gridcolor": "white",
            "linecolor": "white",
            "ticks": ""
           }
          },
          "scene": {
           "xaxis": {
            "backgroundcolor": "#E5ECF6",
            "gridcolor": "white",
            "gridwidth": 2,
            "linecolor": "white",
            "showbackground": true,
            "ticks": "",
            "zerolinecolor": "white"
           },
           "yaxis": {
            "backgroundcolor": "#E5ECF6",
            "gridcolor": "white",
            "gridwidth": 2,
            "linecolor": "white",
            "showbackground": true,
            "ticks": "",
            "zerolinecolor": "white"
           },
           "zaxis": {
            "backgroundcolor": "#E5ECF6",
            "gridcolor": "white",
            "gridwidth": 2,
            "linecolor": "white",
            "showbackground": true,
            "ticks": "",
            "zerolinecolor": "white"
           }
          },
          "shapedefaults": {
           "line": {
            "color": "#2a3f5f"
           }
          },
          "ternary": {
           "aaxis": {
            "gridcolor": "white",
            "linecolor": "white",
            "ticks": ""
           },
           "baxis": {
            "gridcolor": "white",
            "linecolor": "white",
            "ticks": ""
           },
           "bgcolor": "#E5ECF6",
           "caxis": {
            "gridcolor": "white",
            "linecolor": "white",
            "ticks": ""
           }
          },
          "title": {
           "x": 0.05
          },
          "xaxis": {
           "automargin": true,
           "gridcolor": "white",
           "linecolor": "white",
           "ticks": "",
           "title": {
            "standoff": 15
           },
           "zerolinecolor": "white",
           "zerolinewidth": 2
          },
          "yaxis": {
           "automargin": true,
           "gridcolor": "white",
           "linecolor": "white",
           "ticks": "",
           "title": {
            "standoff": 15
           },
           "zerolinecolor": "white",
           "zerolinewidth": 2
          }
         }
        },
        "xaxis": {
         "anchor": "y",
         "constrain": "domain",
         "domain": [
          0,
          1
         ],
         "scaleanchor": "y"
        },
        "yaxis": {
         "anchor": "x",
         "autorange": "reversed",
         "constrain": "domain",
         "domain": [
          0,
          1
         ]
        }
       }
      }
     },
     "metadata": {},
     "output_type": "display_data"
    }
   ],
   "source": [
    "print(y[15000])\n",
    "\n",
    "px.imshow(X[15000].reshape(28,28), color_continuous_scale=[\"white\", \"black\"])"
   ]
  },
  {
   "cell_type": "markdown",
   "metadata": {},
   "source": [
    "## Splitting data\n",
    "We split the data in 80% training data, 10% validation data used for evaluating and tuning hyperparameters, and 10% unseen test data which is used to choose the best model."
   ]
  },
  {
   "cell_type": "code",
   "execution_count": 5,
   "metadata": {},
   "outputs": [
    {
     "name": "stdout",
     "output_type": "stream",
     "text": [
      "Train: X=(56000, 784), y=(56000, 10)\n",
      "Test: X=(7000, 784), y=(7000, 10)\n",
      "Validate: X=(7000, 784), y=(7000, 10)\n"
     ]
    }
   ],
   "source": [
    "from sklearn.model_selection import train_test_split\n",
    "\n",
    "X_train, X_val_test, y_train, y_val_test = train_test_split(X, y, test_size=0.2, random_state=42)\n",
    "X_val, X_test, y_val, y_test = train_test_split(X_val_test, y_val_test, test_size=0.5, random_state=42)\n",
    "\n",
    "print('Train: X=%s, y=%s' % (X_train.shape, y_train.shape))\n",
    "print('Test: X=%s, y=%s' % (X_test.shape, y_test.shape))\n",
    "print('Validate: X=%s, y=%s' % (X_val.shape, y_val.shape))"
   ]
  },
  {
   "cell_type": "markdown",
   "metadata": {},
   "source": [
    "## Candidate  algorithms  and  choice  of  candidate  hyperparameters  (and why were the others left out)\n",
    "\n",
    "We want to chose a classifier algorithm since a classifier utilizes some training data to understand how given input variables relate to a class. In this case, pictures of integers 0-9 are used as the training data. When the classifier is trained accurately, it can be used to detect integers for the Postal office. There are many candidates in this space. \n",
    "\n",
    "Firstly, we choose K Nearest Neighbors Classifier since this is kind of a baseline model, and we have implemnted this model from scratch is previous courses so we are well aware of the algorithm.\n",
    "\n",
    "Secondly, we want to test a descision tree classifier since we know that this is an effective Classifier from our previous Project, where we classified a dataset with 10 features. When we think about a writtin digit, there are probably some descisions thart could be made in a descision tree, such as if it has a single line in vertical direction it is a 1 or 7, or if it contains two circles it is a 8. From the pixel data we ecpect there will be some kind of denominator that could classify the image into a category of digits.\n",
    "\n",
    "Lastly, we  want to explore a Sequential Convolutional Neural Network Classifier since we are not as familier with this tool, and want to learn more about implemtning this Classifier. Neural Nets can be very powerfull if trained accuratly, so we want to explore if this could be a feasible solution for recognizing digits."
   ]
  },
  {
   "cell_type": "markdown",
   "metadata": {},
   "source": [
    "## Chosen performance measure\n",
    "When chosing perfomance measure there are several that could be used, i.e MSE and RMSE, but we want to use the accuracy in percentage (0-100%) on the test data for model selection, and the accuracy on validation data for model evaluation."
   ]
  },
  {
   "cell_type": "markdown",
   "metadata": {},
   "source": [
    "## K Nearest Neighbors Classifier\n",
    "The K-nearest neighbors (KNN) algorithm is a data classification method for estimating the probability that a data point will become a member of one or another group based on which group the data points are closest to it. A classification problem has a discrete value as its output. It is a type of supervised machine learning algorithm used to solve classification (and regression) problems. The algorithm is also called a lazy learning and non-parametic algorithm. This is because it is lazy and does not preform any training when you supply the training data. It just stores the data during the training time and does not perform any calculations. The algorithm does not build a model until a query is performed on the data set. It is considered a non-parametric methods because it does not make any assumptions about the underlying data distribution. It also involves classifying a data point by looking at the nearest annotated data point.\n",
    "\n",
    "A advantage of using it, is that the training phase of K-nearest neighbor classification is much faster compared to other classification algorithms. There is no need to train a model for generalization, that is why KNN is known as the simple and instance-based learning algorithm. One disadvantage of using KNN is that the testing phase of K-nearest neighbor classification is slower and costlier in terms of time and memory. It requires large memory for storing the entire training dataset for prediction.\n",
    "\n",
    "### Hyperparameters\n",
    "We tune the number of nearest neighbors k to asses for choosing the label of the each image."
   ]
  },
  {
   "cell_type": "code",
   "execution_count": 6,
   "metadata": {},
   "outputs": [
    {
     "name": "stdout",
     "output_type": "stream",
     "text": [
      "k=1, validation accuracy=97.01%\n",
      "k=2, validation accuracy=94.61%\n",
      "k=3, validation accuracy=96.86%\n",
      "k=4, validation accuracy=95.73%\n",
      "k=5, validation accuracy=96.66%\n",
      "k=6, validation accuracy=95.53%\n",
      "k=7, validation accuracy=96.36%\n",
      "k=8, validation accuracy=95.54%\n",
      "k=9, validation accuracy=96.30%\n",
      "k=10, validation accuracy=95.50%\n",
      "k=15, validation accuracy=95.60%\n",
      "k=30, validation accuracy=94.11%\n"
     ]
    }
   ],
   "source": [
    "from sklearn.neighbors import KNeighborsClassifier\n",
    "\n",
    "kVals = [1, 2, 3, 4, 5, 6, 7, 8 , 9, 10, 15, 30]\n",
    "accuracies = []\n",
    "\n",
    "for k in kVals: # Testing many k hyperparametyers to optimize performance\n",
    "\tmodel = KNeighborsClassifier(algorithm='auto', n_neighbors=k)\n",
    "\tmodel.fit(X_train, y_train)\n",
    "\n",
    "\tscore = model.score(X_val, y_val)\n",
    "\tprint(\"k=%d, validation accuracy=%.2f%%\" % (k, score * 100))\n",
    "\taccuracies.append([k, score * 100])"
   ]
  },
  {
   "cell_type": "code",
   "execution_count": 7,
   "metadata": {},
   "outputs": [
    {
     "data": {
      "application/vnd.plotly.v1+json": {
       "config": {
        "plotlyServerURL": "https://plot.ly"
       },
       "data": [
        {
         "hovertemplate": "k=%{x}<br>Accuracy=%{y}<extra></extra>",
         "legendgroup": "",
         "line": {
          "color": "#636efa",
          "dash": "solid"
         },
         "mode": "lines",
         "name": "",
         "orientation": "v",
         "showlegend": false,
         "type": "scatter",
         "x": [
          1,
          2,
          3,
          4,
          5,
          6,
          7,
          8,
          9,
          10,
          15,
          30
         ],
         "xaxis": "x",
         "y": [
          97.01428571428572,
          94.61428571428571,
          96.85714285714285,
          95.72857142857143,
          96.65714285714286,
          95.52857142857142,
          96.35714285714285,
          95.54285714285714,
          96.3,
          95.5,
          95.6,
          94.11428571428571
         ],
         "yaxis": "y"
        }
       ],
       "layout": {
        "legend": {
         "tracegroupgap": 0
        },
        "template": {
         "data": {
          "bar": [
           {
            "error_x": {
             "color": "#2a3f5f"
            },
            "error_y": {
             "color": "#2a3f5f"
            },
            "marker": {
             "line": {
              "color": "#E5ECF6",
              "width": 0.5
             }
            },
            "type": "bar"
           }
          ],
          "barpolar": [
           {
            "marker": {
             "line": {
              "color": "#E5ECF6",
              "width": 0.5
             }
            },
            "type": "barpolar"
           }
          ],
          "carpet": [
           {
            "aaxis": {
             "endlinecolor": "#2a3f5f",
             "gridcolor": "white",
             "linecolor": "white",
             "minorgridcolor": "white",
             "startlinecolor": "#2a3f5f"
            },
            "baxis": {
             "endlinecolor": "#2a3f5f",
             "gridcolor": "white",
             "linecolor": "white",
             "minorgridcolor": "white",
             "startlinecolor": "#2a3f5f"
            },
            "type": "carpet"
           }
          ],
          "choropleth": [
           {
            "colorbar": {
             "outlinewidth": 0,
             "ticks": ""
            },
            "type": "choropleth"
           }
          ],
          "contour": [
           {
            "colorbar": {
             "outlinewidth": 0,
             "ticks": ""
            },
            "colorscale": [
             [
              0,
              "#0d0887"
             ],
             [
              0.1111111111111111,
              "#46039f"
             ],
             [
              0.2222222222222222,
              "#7201a8"
             ],
             [
              0.3333333333333333,
              "#9c179e"
             ],
             [
              0.4444444444444444,
              "#bd3786"
             ],
             [
              0.5555555555555556,
              "#d8576b"
             ],
             [
              0.6666666666666666,
              "#ed7953"
             ],
             [
              0.7777777777777778,
              "#fb9f3a"
             ],
             [
              0.8888888888888888,
              "#fdca26"
             ],
             [
              1,
              "#f0f921"
             ]
            ],
            "type": "contour"
           }
          ],
          "contourcarpet": [
           {
            "colorbar": {
             "outlinewidth": 0,
             "ticks": ""
            },
            "type": "contourcarpet"
           }
          ],
          "heatmap": [
           {
            "colorbar": {
             "outlinewidth": 0,
             "ticks": ""
            },
            "colorscale": [
             [
              0,
              "#0d0887"
             ],
             [
              0.1111111111111111,
              "#46039f"
             ],
             [
              0.2222222222222222,
              "#7201a8"
             ],
             [
              0.3333333333333333,
              "#9c179e"
             ],
             [
              0.4444444444444444,
              "#bd3786"
             ],
             [
              0.5555555555555556,
              "#d8576b"
             ],
             [
              0.6666666666666666,
              "#ed7953"
             ],
             [
              0.7777777777777778,
              "#fb9f3a"
             ],
             [
              0.8888888888888888,
              "#fdca26"
             ],
             [
              1,
              "#f0f921"
             ]
            ],
            "type": "heatmap"
           }
          ],
          "heatmapgl": [
           {
            "colorbar": {
             "outlinewidth": 0,
             "ticks": ""
            },
            "colorscale": [
             [
              0,
              "#0d0887"
             ],
             [
              0.1111111111111111,
              "#46039f"
             ],
             [
              0.2222222222222222,
              "#7201a8"
             ],
             [
              0.3333333333333333,
              "#9c179e"
             ],
             [
              0.4444444444444444,
              "#bd3786"
             ],
             [
              0.5555555555555556,
              "#d8576b"
             ],
             [
              0.6666666666666666,
              "#ed7953"
             ],
             [
              0.7777777777777778,
              "#fb9f3a"
             ],
             [
              0.8888888888888888,
              "#fdca26"
             ],
             [
              1,
              "#f0f921"
             ]
            ],
            "type": "heatmapgl"
           }
          ],
          "histogram": [
           {
            "marker": {
             "colorbar": {
              "outlinewidth": 0,
              "ticks": ""
             }
            },
            "type": "histogram"
           }
          ],
          "histogram2d": [
           {
            "colorbar": {
             "outlinewidth": 0,
             "ticks": ""
            },
            "colorscale": [
             [
              0,
              "#0d0887"
             ],
             [
              0.1111111111111111,
              "#46039f"
             ],
             [
              0.2222222222222222,
              "#7201a8"
             ],
             [
              0.3333333333333333,
              "#9c179e"
             ],
             [
              0.4444444444444444,
              "#bd3786"
             ],
             [
              0.5555555555555556,
              "#d8576b"
             ],
             [
              0.6666666666666666,
              "#ed7953"
             ],
             [
              0.7777777777777778,
              "#fb9f3a"
             ],
             [
              0.8888888888888888,
              "#fdca26"
             ],
             [
              1,
              "#f0f921"
             ]
            ],
            "type": "histogram2d"
           }
          ],
          "histogram2dcontour": [
           {
            "colorbar": {
             "outlinewidth": 0,
             "ticks": ""
            },
            "colorscale": [
             [
              0,
              "#0d0887"
             ],
             [
              0.1111111111111111,
              "#46039f"
             ],
             [
              0.2222222222222222,
              "#7201a8"
             ],
             [
              0.3333333333333333,
              "#9c179e"
             ],
             [
              0.4444444444444444,
              "#bd3786"
             ],
             [
              0.5555555555555556,
              "#d8576b"
             ],
             [
              0.6666666666666666,
              "#ed7953"
             ],
             [
              0.7777777777777778,
              "#fb9f3a"
             ],
             [
              0.8888888888888888,
              "#fdca26"
             ],
             [
              1,
              "#f0f921"
             ]
            ],
            "type": "histogram2dcontour"
           }
          ],
          "mesh3d": [
           {
            "colorbar": {
             "outlinewidth": 0,
             "ticks": ""
            },
            "type": "mesh3d"
           }
          ],
          "parcoords": [
           {
            "line": {
             "colorbar": {
              "outlinewidth": 0,
              "ticks": ""
             }
            },
            "type": "parcoords"
           }
          ],
          "pie": [
           {
            "automargin": true,
            "type": "pie"
           }
          ],
          "scatter": [
           {
            "marker": {
             "colorbar": {
              "outlinewidth": 0,
              "ticks": ""
             }
            },
            "type": "scatter"
           }
          ],
          "scatter3d": [
           {
            "line": {
             "colorbar": {
              "outlinewidth": 0,
              "ticks": ""
             }
            },
            "marker": {
             "colorbar": {
              "outlinewidth": 0,
              "ticks": ""
             }
            },
            "type": "scatter3d"
           }
          ],
          "scattercarpet": [
           {
            "marker": {
             "colorbar": {
              "outlinewidth": 0,
              "ticks": ""
             }
            },
            "type": "scattercarpet"
           }
          ],
          "scattergeo": [
           {
            "marker": {
             "colorbar": {
              "outlinewidth": 0,
              "ticks": ""
             }
            },
            "type": "scattergeo"
           }
          ],
          "scattergl": [
           {
            "marker": {
             "colorbar": {
              "outlinewidth": 0,
              "ticks": ""
             }
            },
            "type": "scattergl"
           }
          ],
          "scattermapbox": [
           {
            "marker": {
             "colorbar": {
              "outlinewidth": 0,
              "ticks": ""
             }
            },
            "type": "scattermapbox"
           }
          ],
          "scatterpolar": [
           {
            "marker": {
             "colorbar": {
              "outlinewidth": 0,
              "ticks": ""
             }
            },
            "type": "scatterpolar"
           }
          ],
          "scatterpolargl": [
           {
            "marker": {
             "colorbar": {
              "outlinewidth": 0,
              "ticks": ""
             }
            },
            "type": "scatterpolargl"
           }
          ],
          "scatterternary": [
           {
            "marker": {
             "colorbar": {
              "outlinewidth": 0,
              "ticks": ""
             }
            },
            "type": "scatterternary"
           }
          ],
          "surface": [
           {
            "colorbar": {
             "outlinewidth": 0,
             "ticks": ""
            },
            "colorscale": [
             [
              0,
              "#0d0887"
             ],
             [
              0.1111111111111111,
              "#46039f"
             ],
             [
              0.2222222222222222,
              "#7201a8"
             ],
             [
              0.3333333333333333,
              "#9c179e"
             ],
             [
              0.4444444444444444,
              "#bd3786"
             ],
             [
              0.5555555555555556,
              "#d8576b"
             ],
             [
              0.6666666666666666,
              "#ed7953"
             ],
             [
              0.7777777777777778,
              "#fb9f3a"
             ],
             [
              0.8888888888888888,
              "#fdca26"
             ],
             [
              1,
              "#f0f921"
             ]
            ],
            "type": "surface"
           }
          ],
          "table": [
           {
            "cells": {
             "fill": {
              "color": "#EBF0F8"
             },
             "line": {
              "color": "white"
             }
            },
            "header": {
             "fill": {
              "color": "#C8D4E3"
             },
             "line": {
              "color": "white"
             }
            },
            "type": "table"
           }
          ]
         },
         "layout": {
          "annotationdefaults": {
           "arrowcolor": "#2a3f5f",
           "arrowhead": 0,
           "arrowwidth": 1
          },
          "autotypenumbers": "strict",
          "coloraxis": {
           "colorbar": {
            "outlinewidth": 0,
            "ticks": ""
           }
          },
          "colorscale": {
           "diverging": [
            [
             0,
             "#8e0152"
            ],
            [
             0.1,
             "#c51b7d"
            ],
            [
             0.2,
             "#de77ae"
            ],
            [
             0.3,
             "#f1b6da"
            ],
            [
             0.4,
             "#fde0ef"
            ],
            [
             0.5,
             "#f7f7f7"
            ],
            [
             0.6,
             "#e6f5d0"
            ],
            [
             0.7,
             "#b8e186"
            ],
            [
             0.8,
             "#7fbc41"
            ],
            [
             0.9,
             "#4d9221"
            ],
            [
             1,
             "#276419"
            ]
           ],
           "sequential": [
            [
             0,
             "#0d0887"
            ],
            [
             0.1111111111111111,
             "#46039f"
            ],
            [
             0.2222222222222222,
             "#7201a8"
            ],
            [
             0.3333333333333333,
             "#9c179e"
            ],
            [
             0.4444444444444444,
             "#bd3786"
            ],
            [
             0.5555555555555556,
             "#d8576b"
            ],
            [
             0.6666666666666666,
             "#ed7953"
            ],
            [
             0.7777777777777778,
             "#fb9f3a"
            ],
            [
             0.8888888888888888,
             "#fdca26"
            ],
            [
             1,
             "#f0f921"
            ]
           ],
           "sequentialminus": [
            [
             0,
             "#0d0887"
            ],
            [
             0.1111111111111111,
             "#46039f"
            ],
            [
             0.2222222222222222,
             "#7201a8"
            ],
            [
             0.3333333333333333,
             "#9c179e"
            ],
            [
             0.4444444444444444,
             "#bd3786"
            ],
            [
             0.5555555555555556,
             "#d8576b"
            ],
            [
             0.6666666666666666,
             "#ed7953"
            ],
            [
             0.7777777777777778,
             "#fb9f3a"
            ],
            [
             0.8888888888888888,
             "#fdca26"
            ],
            [
             1,
             "#f0f921"
            ]
           ]
          },
          "colorway": [
           "#636efa",
           "#EF553B",
           "#00cc96",
           "#ab63fa",
           "#FFA15A",
           "#19d3f3",
           "#FF6692",
           "#B6E880",
           "#FF97FF",
           "#FECB52"
          ],
          "font": {
           "color": "#2a3f5f"
          },
          "geo": {
           "bgcolor": "white",
           "lakecolor": "white",
           "landcolor": "#E5ECF6",
           "showlakes": true,
           "showland": true,
           "subunitcolor": "white"
          },
          "hoverlabel": {
           "align": "left"
          },
          "hovermode": "closest",
          "mapbox": {
           "style": "light"
          },
          "paper_bgcolor": "white",
          "plot_bgcolor": "#E5ECF6",
          "polar": {
           "angularaxis": {
            "gridcolor": "white",
            "linecolor": "white",
            "ticks": ""
           },
           "bgcolor": "#E5ECF6",
           "radialaxis": {
            "gridcolor": "white",
            "linecolor": "white",
            "ticks": ""
           }
          },
          "scene": {
           "xaxis": {
            "backgroundcolor": "#E5ECF6",
            "gridcolor": "white",
            "gridwidth": 2,
            "linecolor": "white",
            "showbackground": true,
            "ticks": "",
            "zerolinecolor": "white"
           },
           "yaxis": {
            "backgroundcolor": "#E5ECF6",
            "gridcolor": "white",
            "gridwidth": 2,
            "linecolor": "white",
            "showbackground": true,
            "ticks": "",
            "zerolinecolor": "white"
           },
           "zaxis": {
            "backgroundcolor": "#E5ECF6",
            "gridcolor": "white",
            "gridwidth": 2,
            "linecolor": "white",
            "showbackground": true,
            "ticks": "",
            "zerolinecolor": "white"
           }
          },
          "shapedefaults": {
           "line": {
            "color": "#2a3f5f"
           }
          },
          "ternary": {
           "aaxis": {
            "gridcolor": "white",
            "linecolor": "white",
            "ticks": ""
           },
           "baxis": {
            "gridcolor": "white",
            "linecolor": "white",
            "ticks": ""
           },
           "bgcolor": "#E5ECF6",
           "caxis": {
            "gridcolor": "white",
            "linecolor": "white",
            "ticks": ""
           }
          },
          "title": {
           "x": 0.05
          },
          "xaxis": {
           "automargin": true,
           "gridcolor": "white",
           "linecolor": "white",
           "ticks": "",
           "title": {
            "standoff": 15
           },
           "zerolinecolor": "white",
           "zerolinewidth": 2
          },
          "yaxis": {
           "automargin": true,
           "gridcolor": "white",
           "linecolor": "white",
           "ticks": "",
           "title": {
            "standoff": 15
           },
           "zerolinecolor": "white",
           "zerolinewidth": 2
          }
         }
        },
        "title": {
         "text": "kNN Model accuracy on validation data"
        },
        "xaxis": {
         "anchor": "y",
         "domain": [
          0,
          1
         ],
         "title": {
          "text": "k"
         }
        },
        "yaxis": {
         "anchor": "x",
         "domain": [
          0,
          1
         ],
         "title": {
          "text": "Accuracy"
         }
        }
       }
      }
     },
     "metadata": {},
     "output_type": "display_data"
    }
   ],
   "source": [
    "#Plotting data\n",
    "df = pd.DataFrame(accuracies, columns = ['k', 'Accuracy'])\n",
    "px.line(df, x=\"k\", y = 'Accuracy', title=\"kNN Model accuracy on validation data\")"
   ]
  },
  {
   "cell_type": "code",
   "execution_count": 8,
   "metadata": {},
   "outputs": [
    {
     "name": "stdout",
     "output_type": "stream",
     "text": [
      "Evaluation of test data\n",
      "              precision    recall  f1-score   support\n",
      "\n",
      "           0       0.98      0.99      0.99       685\n",
      "           1       0.97      0.99      0.98       778\n",
      "           2       0.98      0.97      0.98       671\n",
      "           3       0.97      0.96      0.96       690\n",
      "           4       0.98      0.97      0.98       733\n",
      "           5       0.96      0.96      0.96       644\n",
      "           6       0.98      0.98      0.98       729\n",
      "           7       0.96      0.97      0.97       694\n",
      "           8       0.99      0.94      0.96       670\n",
      "           9       0.96      0.97      0.96       706\n",
      "\n",
      "   micro avg       0.97      0.97      0.97      7000\n",
      "   macro avg       0.97      0.97      0.97      7000\n",
      "weighted avg       0.97      0.97      0.97      7000\n",
      " samples avg       0.97      0.97      0.97      7000\n",
      "\n",
      "sklearn KNeighborsClassifier Test data accuracy: 97.14%\n"
     ]
    }
   ],
   "source": [
    "from sklearn.metrics import classification_report\n",
    "from sklearn.metrics import accuracy_score\n",
    "\n",
    "model = KNeighborsClassifier(n_neighbors=1)\n",
    "model.fit(X_train, y_train)\n",
    "predictions = model.predict(X_test)\n",
    "\n",
    "print(\"Evaluation of test data\")\n",
    "print(classification_report(y_test, predictions))\n",
    "print(\"sklearn KNeighborsClassifier Test data accuracy: {:3.2f}%\".format(accuracy_score(y_test, predictions)*100))"
   ]
  },
  {
   "cell_type": "markdown",
   "metadata": {},
   "source": [
    "### kNN Findings\n",
    "We found best results with k=1 which gives us a accuracy on test of 97,14%"
   ]
  },
  {
   "cell_type": "markdown",
   "metadata": {},
   "source": [
    "## Decision Tree Classifier\n",
    "Decision tree is a supervised machine learning algorithm that uses a set of rules to make decisions. A decision tree has a flowchart-like tree structure where an internal node represents feature, the branch represents a decision rule and each leaf node represents the outcome. \n",
    "\n",
    "The most important feature is the capability of capturing descriptive decisionmaking knowledge from the supplied data. A decision tree can be generated from training sets. Decision tree classifier generates the actual prediction at the leaf nodes, more information can be stored at the leaf nodes. The algorithm is a distribution-free or non-parametric method, which does not depend upon probability distribution assumptions. It can handle high dimensional data with good accuracy. \n",
    "\n",
    "\n",
    "### Hyperparameters\n",
    "As implemented in project 1 there are mainly 2 parameters to tweak. The impurity measure gini or entropy, and the max depth of the tree."
   ]
  },
  {
   "cell_type": "code",
   "execution_count": 9,
   "metadata": {},
   "outputs": [
    {
     "name": "stdout",
     "output_type": "stream",
     "text": [
      "Descicion tree with max depth: 3, impurity measure: gini, Accuracy: 24.13%\n",
      "Descicion tree with max depth: 3, impurity measure: entropy, Accuracy: 30.99%\n",
      "Descicion tree with max depth: 4, impurity measure: gini, Accuracy: 40.80%\n",
      "Descicion tree with max depth: 4, impurity measure: entropy, Accuracy: 46.44%\n",
      "Descicion tree with max depth: 5, impurity measure: gini, Accuracy: 52.33%\n",
      "Descicion tree with max depth: 5, impurity measure: entropy, Accuracy: 59.91%\n",
      "Descicion tree with max depth: 6, impurity measure: gini, Accuracy: 66.29%\n",
      "Descicion tree with max depth: 6, impurity measure: entropy, Accuracy: 68.49%\n",
      "Descicion tree with max depth: 7, impurity measure: gini, Accuracy: 70.57%\n",
      "Descicion tree with max depth: 7, impurity measure: entropy, Accuracy: 73.99%\n",
      "Descicion tree with max depth: 8, impurity measure: gini, Accuracy: 75.94%\n",
      "Descicion tree with max depth: 8, impurity measure: entropy, Accuracy: 78.09%\n",
      "Descicion tree with max depth: 9, impurity measure: gini, Accuracy: 80.60%\n",
      "Descicion tree with max depth: 9, impurity measure: entropy, Accuracy: 81.14%\n",
      "Descicion tree with max depth: 10, impurity measure: gini, Accuracy: 83.49%\n",
      "Descicion tree with max depth: 10, impurity measure: entropy, Accuracy: 83.84%\n",
      "Descicion tree with max depth: 11, impurity measure: gini, Accuracy: 85.17%\n",
      "Descicion tree with max depth: 11, impurity measure: entropy, Accuracy: 85.10%\n",
      "Descicion tree with max depth: 12, impurity measure: gini, Accuracy: 86.29%\n",
      "Descicion tree with max depth: 12, impurity measure: entropy, Accuracy: 86.33%\n",
      "Descicion tree with max depth: 13, impurity measure: gini, Accuracy: 86.96%\n",
      "Descicion tree with max depth: 13, impurity measure: entropy, Accuracy: 86.93%\n",
      "Descicion tree with max depth: 14, impurity measure: gini, Accuracy: 86.73%\n",
      "Descicion tree with max depth: 14, impurity measure: entropy, Accuracy: 86.60%\n",
      "Descicion tree with max depth: 15, impurity measure: gini, Accuracy: 87.13%\n",
      "Descicion tree with max depth: 15, impurity measure: entropy, Accuracy: 86.66%\n",
      "Descicion tree with max depth: 16, impurity measure: gini, Accuracy: 87.21%\n",
      "Descicion tree with max depth: 16, impurity measure: entropy, Accuracy: 86.99%\n",
      "Descicion tree with max depth: 17, impurity measure: gini, Accuracy: 87.47%\n",
      "Descicion tree with max depth: 17, impurity measure: entropy, Accuracy: 86.71%\n",
      "Descicion tree with max depth: 18, impurity measure: gini, Accuracy: 87.24%\n",
      "Descicion tree with max depth: 18, impurity measure: entropy, Accuracy: 86.91%\n",
      "Descicion tree with max depth: 19, impurity measure: gini, Accuracy: 87.19%\n",
      "Descicion tree with max depth: 19, impurity measure: entropy, Accuracy: 87.17%\n",
      "Descicion tree with max depth: 20, impurity measure: gini, Accuracy: 87.13%\n",
      "Descicion tree with max depth: 20, impurity measure: entropy, Accuracy: 87.21%\n",
      "Descicion tree with max depth: 21, impurity measure: gini, Accuracy: 87.14%\n",
      "Descicion tree with max depth: 21, impurity measure: entropy, Accuracy: 86.94%\n",
      "Descicion tree with max depth: 22, impurity measure: gini, Accuracy: 87.29%\n",
      "Descicion tree with max depth: 22, impurity measure: entropy, Accuracy: 86.96%\n",
      "Descicion tree with max depth: 23, impurity measure: gini, Accuracy: 87.03%\n",
      "Descicion tree with max depth: 23, impurity measure: entropy, Accuracy: 86.86%\n",
      "Descicion tree with max depth: 24, impurity measure: gini, Accuracy: 87.24%\n",
      "Descicion tree with max depth: 24, impurity measure: entropy, Accuracy: 87.23%\n",
      "Descicion tree with max depth: 25, impurity measure: gini, Accuracy: 87.11%\n",
      "Descicion tree with max depth: 25, impurity measure: entropy, Accuracy: 86.99%\n",
      "Descicion tree with max depth: 26, impurity measure: gini, Accuracy: 87.39%\n",
      "Descicion tree with max depth: 26, impurity measure: entropy, Accuracy: 86.84%\n",
      "Descicion tree with max depth: 27, impurity measure: gini, Accuracy: 87.34%\n",
      "Descicion tree with max depth: 27, impurity measure: entropy, Accuracy: 86.87%\n",
      "Descicion tree with max depth: 28, impurity measure: gini, Accuracy: 86.84%\n",
      "Descicion tree with max depth: 28, impurity measure: entropy, Accuracy: 87.07%\n",
      "Descicion tree with max depth: 29, impurity measure: gini, Accuracy: 87.34%\n",
      "Descicion tree with max depth: 29, impurity measure: entropy, Accuracy: 86.67%\n",
      "Descicion tree with max depth: 30, impurity measure: gini, Accuracy: 87.47%\n",
      "Descicion tree with max depth: 30, impurity measure: entropy, Accuracy: 86.93%\n"
     ]
    }
   ],
   "source": [
    "from sklearn.tree import DecisionTreeClassifier\n",
    "\n",
    "criterion = ['gini','entropy']\n",
    "max_depth = list(range(3, 31))\n",
    "\n",
    "df = []\n",
    "for d in max_depth:\n",
    "    for c in criterion:\n",
    "        dtc = DecisionTreeClassifier(criterion=c, max_depth=d)\n",
    "        dtc.fit(X_train, y_train)\n",
    "        acc = accuracy_score(y_val, dtc.predict(X_val))*100\n",
    "        df.append([d,c,acc])\n",
    "        print(\"Descicion tree with max depth: \"+str(d) + \", impurity measure: \"+c+\", Accuracy: {:3.2f}%\".format(acc))"
   ]
  },
  {
   "cell_type": "code",
   "execution_count": 10,
   "metadata": {},
   "outputs": [
    {
     "data": {
      "application/vnd.plotly.v1+json": {
       "config": {
        "plotlyServerURL": "https://plot.ly"
       },
       "data": [
        {
         "hovertemplate": "Impurity=gini<br>Depth=%{x}<br>Accuracy=%{y}<extra></extra>",
         "legendgroup": "gini",
         "line": {
          "color": "#636efa",
          "dash": "solid"
         },
         "mode": "lines",
         "name": "gini",
         "orientation": "v",
         "showlegend": true,
         "type": "scatter",
         "x": [
          3,
          4,
          5,
          6,
          7,
          8,
          9,
          10,
          11,
          12,
          13,
          14,
          15,
          16,
          17,
          18,
          19,
          20,
          21,
          22,
          23,
          24,
          25,
          26,
          27,
          28,
          29,
          30
         ],
         "xaxis": "x",
         "y": [
          24.12857142857143,
          40.8,
          52.32857142857142,
          66.28571428571428,
          70.57142857142857,
          75.94285714285715,
          80.60000000000001,
          83.48571428571428,
          85.17142857142858,
          86.28571428571429,
          86.95714285714286,
          86.72857142857143,
          87.12857142857143,
          87.21428571428571,
          87.47142857142856,
          87.24285714285715,
          87.18571428571428,
          87.12857142857143,
          87.14285714285714,
          87.28571428571429,
          87.02857142857144,
          87.24285714285715,
          87.11428571428571,
          87.38571428571429,
          87.34285714285714,
          86.84285714285714,
          87.34285714285714,
          87.47142857142856
         ],
         "yaxis": "y"
        },
        {
         "hovertemplate": "Impurity=entropy<br>Depth=%{x}<br>Accuracy=%{y}<extra></extra>",
         "legendgroup": "entropy",
         "line": {
          "color": "#EF553B",
          "dash": "solid"
         },
         "mode": "lines",
         "name": "entropy",
         "orientation": "v",
         "showlegend": true,
         "type": "scatter",
         "x": [
          3,
          4,
          5,
          6,
          7,
          8,
          9,
          10,
          11,
          12,
          13,
          14,
          15,
          16,
          17,
          18,
          19,
          20,
          21,
          22,
          23,
          24,
          25,
          26,
          27,
          28,
          29,
          30
         ],
         "xaxis": "x",
         "y": [
          30.985714285714284,
          46.44285714285714,
          59.91428571428571,
          68.48571428571428,
          73.9857142857143,
          78.08571428571427,
          81.14285714285714,
          83.84285714285714,
          85.1,
          86.32857142857144,
          86.92857142857143,
          86.6,
          86.65714285714286,
          86.9857142857143,
          86.71428571428571,
          86.91428571428571,
          87.17142857142856,
          87.21428571428571,
          86.94285714285715,
          86.95714285714286,
          86.85714285714286,
          87.22857142857143,
          86.9857142857143,
          86.84285714285714,
          86.87142857142857,
          87.07142857142857,
          86.67142857142856,
          86.92857142857143
         ],
         "yaxis": "y"
        }
       ],
       "layout": {
        "legend": {
         "title": {
          "text": "Impurity"
         },
         "tracegroupgap": 0
        },
        "template": {
         "data": {
          "bar": [
           {
            "error_x": {
             "color": "#2a3f5f"
            },
            "error_y": {
             "color": "#2a3f5f"
            },
            "marker": {
             "line": {
              "color": "#E5ECF6",
              "width": 0.5
             }
            },
            "type": "bar"
           }
          ],
          "barpolar": [
           {
            "marker": {
             "line": {
              "color": "#E5ECF6",
              "width": 0.5
             }
            },
            "type": "barpolar"
           }
          ],
          "carpet": [
           {
            "aaxis": {
             "endlinecolor": "#2a3f5f",
             "gridcolor": "white",
             "linecolor": "white",
             "minorgridcolor": "white",
             "startlinecolor": "#2a3f5f"
            },
            "baxis": {
             "endlinecolor": "#2a3f5f",
             "gridcolor": "white",
             "linecolor": "white",
             "minorgridcolor": "white",
             "startlinecolor": "#2a3f5f"
            },
            "type": "carpet"
           }
          ],
          "choropleth": [
           {
            "colorbar": {
             "outlinewidth": 0,
             "ticks": ""
            },
            "type": "choropleth"
           }
          ],
          "contour": [
           {
            "colorbar": {
             "outlinewidth": 0,
             "ticks": ""
            },
            "colorscale": [
             [
              0,
              "#0d0887"
             ],
             [
              0.1111111111111111,
              "#46039f"
             ],
             [
              0.2222222222222222,
              "#7201a8"
             ],
             [
              0.3333333333333333,
              "#9c179e"
             ],
             [
              0.4444444444444444,
              "#bd3786"
             ],
             [
              0.5555555555555556,
              "#d8576b"
             ],
             [
              0.6666666666666666,
              "#ed7953"
             ],
             [
              0.7777777777777778,
              "#fb9f3a"
             ],
             [
              0.8888888888888888,
              "#fdca26"
             ],
             [
              1,
              "#f0f921"
             ]
            ],
            "type": "contour"
           }
          ],
          "contourcarpet": [
           {
            "colorbar": {
             "outlinewidth": 0,
             "ticks": ""
            },
            "type": "contourcarpet"
           }
          ],
          "heatmap": [
           {
            "colorbar": {
             "outlinewidth": 0,
             "ticks": ""
            },
            "colorscale": [
             [
              0,
              "#0d0887"
             ],
             [
              0.1111111111111111,
              "#46039f"
             ],
             [
              0.2222222222222222,
              "#7201a8"
             ],
             [
              0.3333333333333333,
              "#9c179e"
             ],
             [
              0.4444444444444444,
              "#bd3786"
             ],
             [
              0.5555555555555556,
              "#d8576b"
             ],
             [
              0.6666666666666666,
              "#ed7953"
             ],
             [
              0.7777777777777778,
              "#fb9f3a"
             ],
             [
              0.8888888888888888,
              "#fdca26"
             ],
             [
              1,
              "#f0f921"
             ]
            ],
            "type": "heatmap"
           }
          ],
          "heatmapgl": [
           {
            "colorbar": {
             "outlinewidth": 0,
             "ticks": ""
            },
            "colorscale": [
             [
              0,
              "#0d0887"
             ],
             [
              0.1111111111111111,
              "#46039f"
             ],
             [
              0.2222222222222222,
              "#7201a8"
             ],
             [
              0.3333333333333333,
              "#9c179e"
             ],
             [
              0.4444444444444444,
              "#bd3786"
             ],
             [
              0.5555555555555556,
              "#d8576b"
             ],
             [
              0.6666666666666666,
              "#ed7953"
             ],
             [
              0.7777777777777778,
              "#fb9f3a"
             ],
             [
              0.8888888888888888,
              "#fdca26"
             ],
             [
              1,
              "#f0f921"
             ]
            ],
            "type": "heatmapgl"
           }
          ],
          "histogram": [
           {
            "marker": {
             "colorbar": {
              "outlinewidth": 0,
              "ticks": ""
             }
            },
            "type": "histogram"
           }
          ],
          "histogram2d": [
           {
            "colorbar": {
             "outlinewidth": 0,
             "ticks": ""
            },
            "colorscale": [
             [
              0,
              "#0d0887"
             ],
             [
              0.1111111111111111,
              "#46039f"
             ],
             [
              0.2222222222222222,
              "#7201a8"
             ],
             [
              0.3333333333333333,
              "#9c179e"
             ],
             [
              0.4444444444444444,
              "#bd3786"
             ],
             [
              0.5555555555555556,
              "#d8576b"
             ],
             [
              0.6666666666666666,
              "#ed7953"
             ],
             [
              0.7777777777777778,
              "#fb9f3a"
             ],
             [
              0.8888888888888888,
              "#fdca26"
             ],
             [
              1,
              "#f0f921"
             ]
            ],
            "type": "histogram2d"
           }
          ],
          "histogram2dcontour": [
           {
            "colorbar": {
             "outlinewidth": 0,
             "ticks": ""
            },
            "colorscale": [
             [
              0,
              "#0d0887"
             ],
             [
              0.1111111111111111,
              "#46039f"
             ],
             [
              0.2222222222222222,
              "#7201a8"
             ],
             [
              0.3333333333333333,
              "#9c179e"
             ],
             [
              0.4444444444444444,
              "#bd3786"
             ],
             [
              0.5555555555555556,
              "#d8576b"
             ],
             [
              0.6666666666666666,
              "#ed7953"
             ],
             [
              0.7777777777777778,
              "#fb9f3a"
             ],
             [
              0.8888888888888888,
              "#fdca26"
             ],
             [
              1,
              "#f0f921"
             ]
            ],
            "type": "histogram2dcontour"
           }
          ],
          "mesh3d": [
           {
            "colorbar": {
             "outlinewidth": 0,
             "ticks": ""
            },
            "type": "mesh3d"
           }
          ],
          "parcoords": [
           {
            "line": {
             "colorbar": {
              "outlinewidth": 0,
              "ticks": ""
             }
            },
            "type": "parcoords"
           }
          ],
          "pie": [
           {
            "automargin": true,
            "type": "pie"
           }
          ],
          "scatter": [
           {
            "marker": {
             "colorbar": {
              "outlinewidth": 0,
              "ticks": ""
             }
            },
            "type": "scatter"
           }
          ],
          "scatter3d": [
           {
            "line": {
             "colorbar": {
              "outlinewidth": 0,
              "ticks": ""
             }
            },
            "marker": {
             "colorbar": {
              "outlinewidth": 0,
              "ticks": ""
             }
            },
            "type": "scatter3d"
           }
          ],
          "scattercarpet": [
           {
            "marker": {
             "colorbar": {
              "outlinewidth": 0,
              "ticks": ""
             }
            },
            "type": "scattercarpet"
           }
          ],
          "scattergeo": [
           {
            "marker": {
             "colorbar": {
              "outlinewidth": 0,
              "ticks": ""
             }
            },
            "type": "scattergeo"
           }
          ],
          "scattergl": [
           {
            "marker": {
             "colorbar": {
              "outlinewidth": 0,
              "ticks": ""
             }
            },
            "type": "scattergl"
           }
          ],
          "scattermapbox": [
           {
            "marker": {
             "colorbar": {
              "outlinewidth": 0,
              "ticks": ""
             }
            },
            "type": "scattermapbox"
           }
          ],
          "scatterpolar": [
           {
            "marker": {
             "colorbar": {
              "outlinewidth": 0,
              "ticks": ""
             }
            },
            "type": "scatterpolar"
           }
          ],
          "scatterpolargl": [
           {
            "marker": {
             "colorbar": {
              "outlinewidth": 0,
              "ticks": ""
             }
            },
            "type": "scatterpolargl"
           }
          ],
          "scatterternary": [
           {
            "marker": {
             "colorbar": {
              "outlinewidth": 0,
              "ticks": ""
             }
            },
            "type": "scatterternary"
           }
          ],
          "surface": [
           {
            "colorbar": {
             "outlinewidth": 0,
             "ticks": ""
            },
            "colorscale": [
             [
              0,
              "#0d0887"
             ],
             [
              0.1111111111111111,
              "#46039f"
             ],
             [
              0.2222222222222222,
              "#7201a8"
             ],
             [
              0.3333333333333333,
              "#9c179e"
             ],
             [
              0.4444444444444444,
              "#bd3786"
             ],
             [
              0.5555555555555556,
              "#d8576b"
             ],
             [
              0.6666666666666666,
              "#ed7953"
             ],
             [
              0.7777777777777778,
              "#fb9f3a"
             ],
             [
              0.8888888888888888,
              "#fdca26"
             ],
             [
              1,
              "#f0f921"
             ]
            ],
            "type": "surface"
           }
          ],
          "table": [
           {
            "cells": {
             "fill": {
              "color": "#EBF0F8"
             },
             "line": {
              "color": "white"
             }
            },
            "header": {
             "fill": {
              "color": "#C8D4E3"
             },
             "line": {
              "color": "white"
             }
            },
            "type": "table"
           }
          ]
         },
         "layout": {
          "annotationdefaults": {
           "arrowcolor": "#2a3f5f",
           "arrowhead": 0,
           "arrowwidth": 1
          },
          "autotypenumbers": "strict",
          "coloraxis": {
           "colorbar": {
            "outlinewidth": 0,
            "ticks": ""
           }
          },
          "colorscale": {
           "diverging": [
            [
             0,
             "#8e0152"
            ],
            [
             0.1,
             "#c51b7d"
            ],
            [
             0.2,
             "#de77ae"
            ],
            [
             0.3,
             "#f1b6da"
            ],
            [
             0.4,
             "#fde0ef"
            ],
            [
             0.5,
             "#f7f7f7"
            ],
            [
             0.6,
             "#e6f5d0"
            ],
            [
             0.7,
             "#b8e186"
            ],
            [
             0.8,
             "#7fbc41"
            ],
            [
             0.9,
             "#4d9221"
            ],
            [
             1,
             "#276419"
            ]
           ],
           "sequential": [
            [
             0,
             "#0d0887"
            ],
            [
             0.1111111111111111,
             "#46039f"
            ],
            [
             0.2222222222222222,
             "#7201a8"
            ],
            [
             0.3333333333333333,
             "#9c179e"
            ],
            [
             0.4444444444444444,
             "#bd3786"
            ],
            [
             0.5555555555555556,
             "#d8576b"
            ],
            [
             0.6666666666666666,
             "#ed7953"
            ],
            [
             0.7777777777777778,
             "#fb9f3a"
            ],
            [
             0.8888888888888888,
             "#fdca26"
            ],
            [
             1,
             "#f0f921"
            ]
           ],
           "sequentialminus": [
            [
             0,
             "#0d0887"
            ],
            [
             0.1111111111111111,
             "#46039f"
            ],
            [
             0.2222222222222222,
             "#7201a8"
            ],
            [
             0.3333333333333333,
             "#9c179e"
            ],
            [
             0.4444444444444444,
             "#bd3786"
            ],
            [
             0.5555555555555556,
             "#d8576b"
            ],
            [
             0.6666666666666666,
             "#ed7953"
            ],
            [
             0.7777777777777778,
             "#fb9f3a"
            ],
            [
             0.8888888888888888,
             "#fdca26"
            ],
            [
             1,
             "#f0f921"
            ]
           ]
          },
          "colorway": [
           "#636efa",
           "#EF553B",
           "#00cc96",
           "#ab63fa",
           "#FFA15A",
           "#19d3f3",
           "#FF6692",
           "#B6E880",
           "#FF97FF",
           "#FECB52"
          ],
          "font": {
           "color": "#2a3f5f"
          },
          "geo": {
           "bgcolor": "white",
           "lakecolor": "white",
           "landcolor": "#E5ECF6",
           "showlakes": true,
           "showland": true,
           "subunitcolor": "white"
          },
          "hoverlabel": {
           "align": "left"
          },
          "hovermode": "closest",
          "mapbox": {
           "style": "light"
          },
          "paper_bgcolor": "white",
          "plot_bgcolor": "#E5ECF6",
          "polar": {
           "angularaxis": {
            "gridcolor": "white",
            "linecolor": "white",
            "ticks": ""
           },
           "bgcolor": "#E5ECF6",
           "radialaxis": {
            "gridcolor": "white",
            "linecolor": "white",
            "ticks": ""
           }
          },
          "scene": {
           "xaxis": {
            "backgroundcolor": "#E5ECF6",
            "gridcolor": "white",
            "gridwidth": 2,
            "linecolor": "white",
            "showbackground": true,
            "ticks": "",
            "zerolinecolor": "white"
           },
           "yaxis": {
            "backgroundcolor": "#E5ECF6",
            "gridcolor": "white",
            "gridwidth": 2,
            "linecolor": "white",
            "showbackground": true,
            "ticks": "",
            "zerolinecolor": "white"
           },
           "zaxis": {
            "backgroundcolor": "#E5ECF6",
            "gridcolor": "white",
            "gridwidth": 2,
            "linecolor": "white",
            "showbackground": true,
            "ticks": "",
            "zerolinecolor": "white"
           }
          },
          "shapedefaults": {
           "line": {
            "color": "#2a3f5f"
           }
          },
          "ternary": {
           "aaxis": {
            "gridcolor": "white",
            "linecolor": "white",
            "ticks": ""
           },
           "baxis": {
            "gridcolor": "white",
            "linecolor": "white",
            "ticks": ""
           },
           "bgcolor": "#E5ECF6",
           "caxis": {
            "gridcolor": "white",
            "linecolor": "white",
            "ticks": ""
           }
          },
          "title": {
           "x": 0.05
          },
          "xaxis": {
           "automargin": true,
           "gridcolor": "white",
           "linecolor": "white",
           "ticks": "",
           "title": {
            "standoff": 15
           },
           "zerolinecolor": "white",
           "zerolinewidth": 2
          },
          "yaxis": {
           "automargin": true,
           "gridcolor": "white",
           "linecolor": "white",
           "ticks": "",
           "title": {
            "standoff": 15
           },
           "zerolinecolor": "white",
           "zerolinewidth": 2
          }
         }
        },
        "title": {
         "text": "DecisionTreeClassifier accuracy on validation data"
        },
        "xaxis": {
         "anchor": "y",
         "domain": [
          0,
          1
         ],
         "title": {
          "text": "Depth"
         }
        },
        "yaxis": {
         "anchor": "x",
         "domain": [
          0,
          1
         ],
         "title": {
          "text": "Accuracy"
         }
        }
       }
      }
     },
     "metadata": {},
     "output_type": "display_data"
    }
   ],
   "source": [
    "#Plotting data\n",
    "df = pd.DataFrame(df, columns = ['Depth', 'Impurity', 'Accuracy'])\n",
    "px.line(df, x=\"Depth\", y = 'Accuracy', color='Impurity', title=\"DecisionTreeClassifier accuracy on validation data\")"
   ]
  },
  {
   "cell_type": "markdown",
   "metadata": {},
   "source": [
    "We chose the best hyperparameters based on the graph above."
   ]
  },
  {
   "cell_type": "code",
   "execution_count": 11,
   "metadata": {},
   "outputs": [
    {
     "name": "stdout",
     "output_type": "stream",
     "text": [
      "Evaluation of test data\n",
      "              precision    recall  f1-score   support\n",
      "\n",
      "           0       0.92      0.91      0.92       685\n",
      "           1       0.95      0.96      0.95       778\n",
      "           2       0.84      0.87      0.86       671\n",
      "           3       0.84      0.86      0.85       690\n",
      "           4       0.89      0.88      0.88       733\n",
      "           5       0.80      0.81      0.81       644\n",
      "           6       0.90      0.91      0.90       729\n",
      "           7       0.90      0.92      0.91       694\n",
      "           8       0.83      0.78      0.80       670\n",
      "           9       0.84      0.82      0.83       706\n",
      "\n",
      "   micro avg       0.87      0.87      0.87      7000\n",
      "   macro avg       0.87      0.87      0.87      7000\n",
      "weighted avg       0.87      0.87      0.87      7000\n",
      " samples avg       0.87      0.87      0.87      7000\n",
      "\n",
      "sklearn DecisionTreeClassifier Test data accuracy: 87.39%\n"
     ]
    }
   ],
   "source": [
    "DecisionTree = DecisionTreeClassifier()\n",
    "DecisionTree.fit(X_train, y_train)\n",
    "predictions = DecisionTree.predict(X_test)\n",
    "\n",
    "print(\"Evaluation of test data\")\n",
    "print(classification_report(y_test, predictions))\n",
    "\n",
    "print(\"sklearn DecisionTreeClassifier Test data accuracy: {:3.2f}%\".format(accuracy_score(y_test, predictions)*100))"
   ]
  },
  {
   "cell_type": "markdown",
   "metadata": {},
   "source": [
    "We found best results with impurity measure entropy and depth of 30 which gives us a accuracy on test of about 87%. Given the kNN baseline performed 97% accuracy we can discard this model since it does not perform better."
   ]
  },
  {
   "cell_type": "markdown",
   "metadata": {},
   "source": [
    "## Sequential Convolutional Neural Network Classifier\n",
    "Convolutional networks (CNN) are a specialized type of neural networks that use convolution in place of general matrix multiplication in at least one of their layers. CNNs consists of an input layer, hidden layers and a output layer. The hidden layers are called hidden, because their inputs and outputs are masked by the activation function and final convolution. This usually means that it includes a layer that preforms a dot product of the convolution kernel with the layers input matrix.\n",
    "\n",
    "CNNs use relatively little pre-processing compared to other image classification algorithms, which means that the networks learns to optimize the filters (or kernel) trough automated learning, while in traditional algorithms these filters are hand-engineered.\n",
    "CNNs take advantage of the hierarchial pattern in data. It assemble patterns of increasing complexity unsing smaller and simpler patterns embossed in their filters. Convolutional networks are a specialized type of neural networks that use convolution in place of general matrix multiplication in at least one of their layers.\n",
    "\n",
    "\n",
    "### Hyperparameters\n",
    "\n",
    "Layers\n",
    "Activation function\n",
    "keras.optimizers import SGD"
   ]
  },
  {
   "cell_type": "code",
   "execution_count": 12,
   "metadata": {},
   "outputs": [
    {
     "name": "stdout",
     "output_type": "stream",
     "text": [
      "1.10.0\n",
      "GPU Device:/device:GPU:0\n"
     ]
    }
   ],
   "source": [
    "from keras.models import Sequential\n",
    "from keras.layers import Conv2D\n",
    "from keras.layers import MaxPooling2D\n",
    "from keras.layers import Dense\n",
    "from keras.layers import Flatten\n",
    "from keras.optimizers import SGD\n",
    "from keras.optimizers import Adam\n",
    "from sklearn.model_selection import KFold\n",
    "from keras.layers import BatchNormalization\n",
    "\n",
    "print(tf.__version__)\n",
    "\n",
    "if tf.test.gpu_device_name(): \n",
    "    print('GPU Device:{}'.format(tf.test.gpu_device_name()))"
   ]
  },
  {
   "cell_type": "markdown",
   "metadata": {},
   "source": [
    "We need to reshape the image data for the nural network to accept it as a single color channel."
   ]
  },
  {
   "cell_type": "code",
   "execution_count": 13,
   "metadata": {},
   "outputs": [],
   "source": [
    "X = X.reshape(X.shape[0], 28, 28, 1)\n",
    "X_train, X_val_test, y_train, y_val_test = train_test_split(X, y, test_size=0.2, random_state=42)\n",
    "X_val, X_test, y_val, y_test = train_test_split(X_val_test, y_val_test, test_size=0.5, random_state=42)"
   ]
  },
  {
   "cell_type": "markdown",
   "metadata": {},
   "source": [
    "Define Model\n",
    "\n",
    "Next, we need to define a baseline convolutional neural network model for the problem.\n",
    "\n",
    "The model has two main aspects: the feature extraction front end comprised of convolutional and pooling layers, and the classifier backend that will make a prediction.\n",
    "\n",
    "For the convolutional front-end, we can start with a single convolutional layer with a small filter size (3,3) and a modest number of filters (32) followed by a max pooling layer. The filter maps can then be flattened to provide features to the classifier.\n",
    "\n",
    "Given that the problem is a multi-class classification task, we know that we will require an output layer with 10 nodes in order to predict the probability distribution of an image belonging to each of the 10 classes. This will also require the use of a softmax activation function. Between the feature extractor and the output layer, we can add a dense layer to interpret the features, in this case with 100 nodes.\n",
    "\n",
    "All layers will use the ReLU activation function and the He weight initialization scheme, both best practices.\n",
    "\n",
    "We will use a conservative configuration for the stochastic gradient descent optimizer with a learning rate of 0.01 and a momentum of 0.9. The categorical cross-entropy loss function will be optimized, suitable for multi-class classification, and we will monitor the classification accuracy metric, which is appropriate given we have the same number of examples in each of the 10 classes."
   ]
  },
  {
   "cell_type": "code",
   "execution_count": 14,
   "metadata": {},
   "outputs": [
    {
     "name": "stdout",
     "output_type": "stream",
     "text": [
      "Train on 56000 samples, validate on 7000 samples\n",
      "Epoch 1/15\n",
      "56000/56000 [==============================] - 13s 225us/step - loss: 0.2154 - acc: 0.9341 - val_loss: 0.1308 - val_acc: 0.9581\n",
      "Epoch 2/15\n",
      "56000/56000 [==============================] - 9s 167us/step - loss: 0.0838 - acc: 0.9752 - val_loss: 0.0886 - val_acc: 0.9734\n",
      "Epoch 3/15\n",
      "56000/56000 [==============================] - 9s 166us/step - loss: 0.0552 - acc: 0.9836 - val_loss: 0.0640 - val_acc: 0.9787\n",
      "Epoch 4/15\n",
      "56000/56000 [==============================] - 9s 166us/step - loss: 0.0405 - acc: 0.9878 - val_loss: 0.0571 - val_acc: 0.9811\n",
      "Epoch 5/15\n",
      "56000/56000 [==============================] - 9s 164us/step - loss: 0.0306 - acc: 0.9909 - val_loss: 0.0565 - val_acc: 0.9816\n",
      "Epoch 6/15\n",
      "56000/56000 [==============================] - 9s 166us/step - loss: 0.0247 - acc: 0.9925 - val_loss: 0.0577 - val_acc: 0.9817\n",
      "Epoch 7/15\n",
      "56000/56000 [==============================] - 9s 165us/step - loss: 0.0189 - acc: 0.9946 - val_loss: 0.0516 - val_acc: 0.9847\n",
      "Epoch 8/15\n",
      "56000/56000 [==============================] - 9s 166us/step - loss: 0.0143 - acc: 0.9963 - val_loss: 0.0521 - val_acc: 0.9841\n",
      "Epoch 9/15\n",
      "56000/56000 [==============================] - 9s 166us/step - loss: 0.0112 - acc: 0.9975 - val_loss: 0.0495 - val_acc: 0.9846\n",
      "Epoch 10/15\n",
      "56000/56000 [==============================] - 9s 166us/step - loss: 0.0089 - acc: 0.9980 - val_loss: 0.0476 - val_acc: 0.9864\n",
      "Epoch 11/15\n",
      "56000/56000 [==============================] - 9s 164us/step - loss: 0.0071 - acc: 0.9986 - val_loss: 0.0482 - val_acc: 0.9850\n",
      "Epoch 12/15\n",
      "56000/56000 [==============================] - 9s 165us/step - loss: 0.0056 - acc: 0.9989 - val_loss: 0.0512 - val_acc: 0.9859\n",
      "Epoch 13/15\n",
      "56000/56000 [==============================] - 9s 166us/step - loss: 0.0043 - acc: 0.9994 - val_loss: 0.0516 - val_acc: 0.9846\n",
      "Epoch 14/15\n",
      "56000/56000 [==============================] - 9s 166us/step - loss: 0.0035 - acc: 0.9996 - val_loss: 0.0505 - val_acc: 0.9864\n",
      "Epoch 15/15\n",
      "56000/56000 [==============================] - 9s 163us/step - loss: 0.0028 - acc: 0.9998 - val_loss: 0.0514 - val_acc: 0.9854\n",
      "7000/7000 [==============================] - 1s 97us/step\n",
      "Model accuracy on test data:  98.729\n"
     ]
    }
   ],
   "source": [
    "def neural_net_1(X_train, y_train, X_val, y_val, X_test, y_test, epochs = 5):\n",
    "\tmodel = Sequential()\n",
    "\tmodel.add(Conv2D(32, (3, 3), activation='relu', kernel_initializer='he_uniform', input_shape=(28, 28, 1)))\n",
    "\tmodel.add(MaxPooling2D((2, 2)))\n",
    "\tmodel.add(Flatten())\n",
    "\tmodel.add(Dense(100, activation='relu', kernel_initializer='he_uniform'))\n",
    "\tmodel.add(Dense(10, activation='softmax')) # Output layer of 10 integers\n",
    "\topt = SGD(lr=0.01, momentum=0.9)\n",
    "\tmodel.compile(optimizer=opt, loss='categorical_crossentropy', metrics=['accuracy'])\n",
    "\n",
    "\tmodel.fit(X_train, y_train, epochs=epochs, batch_size=64, validation_data=(X_val, y_val), verbose=1)\n",
    "\t_, acc = model.evaluate(X_test, y_test, verbose=1)\n",
    "\tprint('Model accuracy on test data:  %.3f' % (acc * 100.0))\n",
    "\t\n",
    "\treturn model\n",
    "\t\n",
    "neural_net = neural_net_1(X_train, y_train, X_val, y_val, X_test, y_test, epochs=15)"
   ]
  },
  {
   "cell_type": "markdown",
   "metadata": {},
   "source": [
    "## Increase in Model Depth\n",
    "\n",
    "There are many ways to change the model configuration in order to explore improvements over the baseline model.\n",
    "\n",
    "Two common approaches involve changing the capacity of the feature extraction part of the model or changing the capacity or function of the classifier part of the model. Perhaps the point of biggest influence is a change to the feature extractor.\n",
    "\n",
    "We can increase the depth of the feature extractor part of the model, following a VGG-like pattern of adding more convolutional and pooling layers with the same sized filter, while increasing the number of filters. In this case, we will add a double convolutional layer with 64 filters each, followed by another max pooling layer.\n",
    "\n",
    "The updated version of the define_model() function with this change is listed below."
   ]
  },
  {
   "cell_type": "code",
   "execution_count": 15,
   "metadata": {},
   "outputs": [
    {
     "name": "stdout",
     "output_type": "stream",
     "text": [
      "Train on 56000 samples, validate on 7000 samples\n",
      "Epoch 1/15\n",
      "56000/56000 [==============================] - 13s 229us/step - loss: 0.1603 - acc: 0.9492 - val_loss: 0.0695 - val_acc: 0.9779\n",
      "Epoch 2/15\n",
      "56000/56000 [==============================] - 13s 224us/step - loss: 0.0550 - acc: 0.9832 - val_loss: 0.0506 - val_acc: 0.9833\n",
      "Epoch 3/15\n",
      "56000/56000 [==============================] - 13s 224us/step - loss: 0.0365 - acc: 0.9885 - val_loss: 0.0464 - val_acc: 0.9846\n",
      "Epoch 4/15\n",
      "56000/56000 [==============================] - 12s 219us/step - loss: 0.0294 - acc: 0.9906 - val_loss: 0.0474 - val_acc: 0.9870\n",
      "Epoch 5/15\n",
      "56000/56000 [==============================] - 12s 216us/step - loss: 0.0217 - acc: 0.9933 - val_loss: 0.0391 - val_acc: 0.9879\n",
      "Epoch 6/15\n",
      "56000/56000 [==============================] - 12s 214us/step - loss: 0.0176 - acc: 0.9943 - val_loss: 0.0464 - val_acc: 0.9870\n",
      "Epoch 7/15\n",
      "56000/56000 [==============================] - 12s 213us/step - loss: 0.0137 - acc: 0.9956 - val_loss: 0.0371 - val_acc: 0.9891\n",
      "Epoch 8/15\n",
      "56000/56000 [==============================] - 12s 214us/step - loss: 0.0101 - acc: 0.9969 - val_loss: 0.0446 - val_acc: 0.9889\n",
      "Epoch 9/15\n",
      "56000/56000 [==============================] - 12s 214us/step - loss: 0.0087 - acc: 0.9976 - val_loss: 0.0514 - val_acc: 0.9867\n",
      "Epoch 10/15\n",
      "56000/56000 [==============================] - 12s 215us/step - loss: 0.0066 - acc: 0.9979 - val_loss: 0.0461 - val_acc: 0.9889\n",
      "Epoch 11/15\n",
      "56000/56000 [==============================] - 12s 217us/step - loss: 0.0056 - acc: 0.9983 - val_loss: 0.0472 - val_acc: 0.9891\n",
      "Epoch 12/15\n",
      "56000/56000 [==============================] - 12s 219us/step - loss: 0.0042 - acc: 0.9987 - val_loss: 0.0484 - val_acc: 0.9897\n",
      "Epoch 13/15\n",
      "56000/56000 [==============================] - 12s 221us/step - loss: 0.0029 - acc: 0.9993 - val_loss: 0.0489 - val_acc: 0.9899\n",
      "Epoch 14/15\n",
      "56000/56000 [==============================] - 12s 222us/step - loss: 0.0027 - acc: 0.9992 - val_loss: 0.0591 - val_acc: 0.9876\n",
      "Epoch 15/15\n",
      "56000/56000 [==============================] - 13s 225us/step - loss: 0.0026 - acc: 0.9993 - val_loss: 0.0525 - val_acc: 0.9910\n",
      "7000/7000 [==============================] - 1s 124us/step\n",
      "Model accuracy on test data:  98.986\n"
     ]
    }
   ],
   "source": [
    "def neural_net_2(X_train, y_train, X_val, y_val, X_test, y_test, epochs = 5):\n",
    "\tmodel = Sequential()\n",
    "\tmodel.add(Conv2D(32, (3, 3), activation='relu', kernel_initializer='he_uniform', input_shape=(28, 28, 1)))\n",
    "\tmodel.add(MaxPooling2D((2, 2)))\n",
    "\tmodel.add(Conv2D(64, (3, 3), activation='relu', kernel_initializer='he_uniform'))\n",
    "\tmodel.add(Conv2D(64, (3, 3), activation='relu', kernel_initializer='he_uniform'))\n",
    "\tmodel.add(MaxPooling2D((2, 2)))\n",
    "\tmodel.add(Flatten())\n",
    "\tmodel.add(Dense(100, activation='relu', kernel_initializer='he_uniform'))\n",
    "\tmodel.add(Dense(10, activation='softmax'))\n",
    "\topt = SGD(lr=0.01, momentum=0.9)\n",
    "\tmodel.compile(optimizer=opt, loss='categorical_crossentropy', metrics=['accuracy'])\n",
    "\n",
    "\tmodel.fit(X_train, y_train, epochs=epochs, batch_size=64, validation_data=(X_val, y_val), verbose=1)\n",
    "\t_, acc = model.evaluate(X_test, y_test, verbose=1)\n",
    "\tprint('Model accuracy on test data:  %.3f' % (acc * 100.0))\n",
    "\n",
    "\treturn model\n",
    "\n",
    "neural_net = neural_net_2(X_train, y_train, X_val, y_val, X_test, y_test, epochs=15)"
   ]
  },
  {
   "cell_type": "markdown",
   "metadata": {},
   "source": [
    "## K-folds"
   ]
  },
  {
   "cell_type": "code",
   "execution_count": 16,
   "metadata": {},
   "outputs": [
    {
     "name": "stdout",
     "output_type": "stream",
     "text": [
      "Train on 56000 samples, validate on 14000 samples\n",
      "Epoch 1/20\n",
      "56000/56000 [==============================] - 26s 456us/step - loss: 0.1218 - acc: 0.9606 - val_loss: 0.0484 - val_acc: 0.9851\n",
      "Epoch 2/20\n",
      "56000/56000 [==============================] - 25s 442us/step - loss: 0.0424 - acc: 0.9866 - val_loss: 0.0462 - val_acc: 0.9859\n",
      "Epoch 3/20\n",
      "56000/56000 [==============================] - 25s 443us/step - loss: 0.0297 - acc: 0.9904 - val_loss: 0.0320 - val_acc: 0.9894\n",
      "Epoch 4/20\n",
      "56000/56000 [==============================] - 25s 443us/step - loss: 0.0216 - acc: 0.9930 - val_loss: 0.0316 - val_acc: 0.9894\n",
      "Epoch 5/20\n",
      "56000/56000 [==============================] - 25s 449us/step - loss: 0.0157 - acc: 0.9949 - val_loss: 0.0375 - val_acc: 0.9886\n",
      "Epoch 6/20\n",
      "56000/56000 [==============================] - 25s 454us/step - loss: 0.0115 - acc: 0.9964 - val_loss: 0.0385 - val_acc: 0.9890\n",
      "Epoch 7/20\n",
      "56000/56000 [==============================] - 25s 450us/step - loss: 0.0103 - acc: 0.9966 - val_loss: 0.0357 - val_acc: 0.9900\n",
      "Epoch 8/20\n",
      "56000/56000 [==============================] - 26s 461us/step - loss: 0.0082 - acc: 0.9971 - val_loss: 0.0376 - val_acc: 0.9906\n",
      "Epoch 9/20\n",
      "56000/56000 [==============================] - 25s 454us/step - loss: 0.0059 - acc: 0.9983 - val_loss: 0.0341 - val_acc: 0.9904\n",
      "Epoch 10/20\n",
      "56000/56000 [==============================] - 26s 466us/step - loss: 0.0044 - acc: 0.9988 - val_loss: 0.0367 - val_acc: 0.9905\n",
      "Epoch 11/20\n",
      "56000/56000 [==============================] - 26s 466us/step - loss: 0.0028 - acc: 0.9993 - val_loss: 0.0308 - val_acc: 0.9922\n",
      "Epoch 12/20\n",
      "56000/56000 [==============================] - 26s 468us/step - loss: 0.0013 - acc: 0.9997 - val_loss: 0.0334 - val_acc: 0.9919\n",
      "Epoch 13/20\n",
      "56000/56000 [==============================] - 26s 469us/step - loss: 0.0016 - acc: 0.9996 - val_loss: 0.0396 - val_acc: 0.9911\n",
      "Epoch 14/20\n",
      "56000/56000 [==============================] - 26s 466us/step - loss: 0.0024 - acc: 0.9993 - val_loss: 0.0385 - val_acc: 0.9916\n",
      "Epoch 15/20\n",
      "56000/56000 [==============================] - 26s 466us/step - loss: 0.0035 - acc: 0.9990 - val_loss: 0.0450 - val_acc: 0.9901\n",
      "Epoch 16/20\n",
      "56000/56000 [==============================] - 26s 464us/step - loss: 0.0028 - acc: 0.9991 - val_loss: 0.0472 - val_acc: 0.9901\n",
      "Epoch 17/20\n",
      "56000/56000 [==============================] - 26s 468us/step - loss: 0.0022 - acc: 0.9995 - val_loss: 0.0368 - val_acc: 0.9918\n",
      "Epoch 18/20\n",
      "56000/56000 [==============================] - 26s 471us/step - loss: 6.7614e-04 - acc: 0.9999 - val_loss: 0.0349 - val_acc: 0.9926\n",
      "Epoch 19/20\n",
      "56000/56000 [==============================] - 26s 469us/step - loss: 3.9201e-04 - acc: 1.0000 - val_loss: 0.0361 - val_acc: 0.9926\n",
      "Epoch 20/20\n",
      "56000/56000 [==============================] - 26s 469us/step - loss: 3.3775e-04 - acc: 1.0000 - val_loss: 0.0366 - val_acc: 0.9924\n",
      "14000/14000 [==============================] - 3s 191us/step\n",
      "> 99.243\n",
      "Train on 56000 samples, validate on 14000 samples\n",
      "Epoch 1/20\n",
      "56000/56000 [==============================] - 27s 481us/step - loss: 0.1267 - acc: 0.9600 - val_loss: 0.0635 - val_acc: 0.9799\n",
      "Epoch 2/20\n",
      "56000/56000 [==============================] - 26s 472us/step - loss: 0.0411 - acc: 0.9873 - val_loss: 0.0458 - val_acc: 0.9860\n",
      "Epoch 3/20\n",
      "56000/56000 [==============================] - 26s 467us/step - loss: 0.0273 - acc: 0.9911 - val_loss: 0.0449 - val_acc: 0.9868\n",
      "Epoch 4/20\n",
      "56000/56000 [==============================] - 26s 468us/step - loss: 0.0202 - acc: 0.9935 - val_loss: 0.0373 - val_acc: 0.9890\n",
      "Epoch 5/20\n",
      "56000/56000 [==============================] - 26s 463us/step - loss: 0.0142 - acc: 0.9955 - val_loss: 0.0432 - val_acc: 0.9872\n",
      "Epoch 6/20\n",
      "56000/56000 [==============================] - 26s 472us/step - loss: 0.0110 - acc: 0.9965 - val_loss: 0.0353 - val_acc: 0.9904\n",
      "Epoch 7/20\n",
      "56000/56000 [==============================] - 27s 474us/step - loss: 0.0079 - acc: 0.9972 - val_loss: 0.0450 - val_acc: 0.9888\n",
      "Epoch 8/20\n",
      "56000/56000 [==============================] - 26s 471us/step - loss: 0.0073 - acc: 0.9975 - val_loss: 0.0379 - val_acc: 0.9909\n",
      "Epoch 9/20\n",
      "56000/56000 [==============================] - 26s 469us/step - loss: 0.0066 - acc: 0.9977 - val_loss: 0.0497 - val_acc: 0.9881\n",
      "Epoch 10/20\n",
      "56000/56000 [==============================] - 26s 471us/step - loss: 0.0049 - acc: 0.9985 - val_loss: 0.0459 - val_acc: 0.9895\n",
      "Epoch 11/20\n",
      "56000/56000 [==============================] - 26s 468us/step - loss: 0.0034 - acc: 0.9989 - val_loss: 0.0491 - val_acc: 0.9904\n",
      "Epoch 12/20\n",
      "56000/56000 [==============================] - 26s 465us/step - loss: 0.0019 - acc: 0.9994 - val_loss: 0.0433 - val_acc: 0.9912\n",
      "Epoch 13/20\n",
      "56000/56000 [==============================] - 27s 477us/step - loss: 0.0017 - acc: 0.9995 - val_loss: 0.0457 - val_acc: 0.9911\n",
      "Epoch 14/20\n",
      "56000/56000 [==============================] - 26s 469us/step - loss: 0.0022 - acc: 0.9991 - val_loss: 0.0502 - val_acc: 0.9907\n",
      "Epoch 15/20\n",
      "56000/56000 [==============================] - 26s 464us/step - loss: 8.5822e-04 - acc: 0.9998 - val_loss: 0.0463 - val_acc: 0.9916\n",
      "Epoch 16/20\n",
      "56000/56000 [==============================] - 27s 478us/step - loss: 1.5424e-04 - acc: 1.0000 - val_loss: 0.0488 - val_acc: 0.9919\n",
      "Epoch 17/20\n",
      "56000/56000 [==============================] - 27s 475us/step - loss: 6.0684e-05 - acc: 1.0000 - val_loss: 0.0489 - val_acc: 0.9921\n",
      "Epoch 18/20\n",
      "56000/56000 [==============================] - 26s 469us/step - loss: 4.4663e-05 - acc: 1.0000 - val_loss: 0.0501 - val_acc: 0.9923\n",
      "Epoch 19/20\n",
      "56000/56000 [==============================] - 26s 466us/step - loss: 3.6777e-05 - acc: 1.0000 - val_loss: 0.0505 - val_acc: 0.9921\n",
      "Epoch 20/20\n",
      "56000/56000 [==============================] - 26s 471us/step - loss: 3.1782e-05 - acc: 1.0000 - val_loss: 0.0510 - val_acc: 0.9921\n",
      "14000/14000 [==============================] - 3s 191us/step\n",
      "> 99.214\n",
      "Train on 56000 samples, validate on 14000 samples\n",
      "Epoch 1/20\n",
      "56000/56000 [==============================] - 27s 477us/step - loss: 0.1294 - acc: 0.9592 - val_loss: 0.0677 - val_acc: 0.9778\n",
      "Epoch 2/20\n",
      "56000/56000 [==============================] - 27s 476us/step - loss: 0.0449 - acc: 0.9862 - val_loss: 0.0406 - val_acc: 0.9866\n",
      "Epoch 3/20\n",
      "56000/56000 [==============================] - 27s 484us/step - loss: 0.0307 - acc: 0.9904 - val_loss: 0.0375 - val_acc: 0.9888\n",
      "Epoch 4/20\n",
      "56000/56000 [==============================] - 26s 470us/step - loss: 0.0204 - acc: 0.9937 - val_loss: 0.0425 - val_acc: 0.9878\n",
      "Epoch 5/20\n",
      "56000/56000 [==============================] - 26s 463us/step - loss: 0.0169 - acc: 0.9943 - val_loss: 0.0339 - val_acc: 0.9896\n",
      "Epoch 6/20\n",
      "56000/56000 [==============================] - 26s 466us/step - loss: 0.0115 - acc: 0.9966 - val_loss: 0.0352 - val_acc: 0.9909\n",
      "Epoch 7/20\n",
      "56000/56000 [==============================] - 27s 476us/step - loss: 0.0091 - acc: 0.9972 - val_loss: 0.0493 - val_acc: 0.9869\n",
      "Epoch 8/20\n",
      "56000/56000 [==============================] - 26s 473us/step - loss: 0.0075 - acc: 0.9975 - val_loss: 0.0379 - val_acc: 0.9899\n",
      "Epoch 9/20\n",
      "56000/56000 [==============================] - 26s 470us/step - loss: 0.0071 - acc: 0.9977 - val_loss: 0.0418 - val_acc: 0.9902\n",
      "Epoch 10/20\n",
      "56000/56000 [==============================] - 26s 470us/step - loss: 0.0039 - acc: 0.9989 - val_loss: 0.0382 - val_acc: 0.9912\n",
      "Epoch 11/20\n",
      "56000/56000 [==============================] - 26s 468us/step - loss: 0.0039 - acc: 0.9988 - val_loss: 0.0468 - val_acc: 0.9899\n",
      "Epoch 12/20\n",
      "56000/56000 [==============================] - 26s 469us/step - loss: 0.0014 - acc: 0.9998 - val_loss: 0.0421 - val_acc: 0.9909\n",
      "Epoch 13/20\n",
      "56000/56000 [==============================] - 27s 487us/step - loss: 0.0010 - acc: 0.9998 - val_loss: 0.0424 - val_acc: 0.9915\n",
      "Epoch 14/20\n",
      "56000/56000 [==============================] - 27s 486us/step - loss: 4.2390e-04 - acc: 1.0000 - val_loss: 0.0422 - val_acc: 0.9915\n",
      "Epoch 15/20\n",
      "56000/56000 [==============================] - 26s 473us/step - loss: 3.6647e-04 - acc: 1.0000 - val_loss: 0.0430 - val_acc: 0.9919\n",
      "Epoch 16/20\n",
      "56000/56000 [==============================] - 26s 470us/step - loss: 3.4369e-04 - acc: 1.0000 - val_loss: 0.0438 - val_acc: 0.9921\n",
      "Epoch 17/20\n",
      "56000/56000 [==============================] - 27s 485us/step - loss: 3.3399e-04 - acc: 1.0000 - val_loss: 0.0446 - val_acc: 0.9920\n",
      "Epoch 18/20\n",
      "56000/56000 [==============================] - 28s 496us/step - loss: 3.2767e-04 - acc: 1.0000 - val_loss: 0.0451 - val_acc: 0.9922\n",
      "Epoch 19/20\n",
      "56000/56000 [==============================] - 27s 474us/step - loss: 3.2323e-04 - acc: 1.0000 - val_loss: 0.0457 - val_acc: 0.9921\n",
      "Epoch 20/20\n",
      "56000/56000 [==============================] - 26s 468us/step - loss: 3.1929e-04 - acc: 1.0000 - val_loss: 0.0461 - val_acc: 0.9921\n",
      "14000/14000 [==============================] - 3s 202us/step\n",
      "> 99.207\n",
      "Train on 56000 samples, validate on 14000 samples\n",
      "Epoch 1/20\n",
      "56000/56000 [==============================] - 27s 484us/step - loss: 0.1379 - acc: 0.9570 - val_loss: 0.0469 - val_acc: 0.9853\n",
      "Epoch 2/20\n",
      "56000/56000 [==============================] - 28s 492us/step - loss: 0.0478 - acc: 0.9856 - val_loss: 0.0370 - val_acc: 0.9880\n",
      "Epoch 3/20\n",
      "56000/56000 [==============================] - 27s 488us/step - loss: 0.0324 - acc: 0.9902 - val_loss: 0.0432 - val_acc: 0.9865\n",
      "Epoch 4/20\n",
      "56000/56000 [==============================] - 26s 468us/step - loss: 0.0238 - acc: 0.9924 - val_loss: 0.0337 - val_acc: 0.9891\n",
      "Epoch 5/20\n",
      "56000/56000 [==============================] - 26s 472us/step - loss: 0.0164 - acc: 0.9952 - val_loss: 0.0361 - val_acc: 0.9894\n",
      "Epoch 6/20\n",
      "56000/56000 [==============================] - 27s 482us/step - loss: 0.0122 - acc: 0.9964 - val_loss: 0.0338 - val_acc: 0.9899\n",
      "Epoch 7/20\n",
      "56000/56000 [==============================] - 28s 499us/step - loss: 0.0106 - acc: 0.9964 - val_loss: 0.0342 - val_acc: 0.9896\n",
      "Epoch 8/20\n",
      "56000/56000 [==============================] - 28s 496us/step - loss: 0.0076 - acc: 0.9974 - val_loss: 0.0361 - val_acc: 0.9907\n",
      "Epoch 9/20\n",
      "56000/56000 [==============================] - 26s 466us/step - loss: 0.0075 - acc: 0.9975 - val_loss: 0.0304 - val_acc: 0.9914\n",
      "Epoch 10/20\n",
      "56000/56000 [==============================] - 26s 473us/step - loss: 0.0049 - acc: 0.9984 - val_loss: 0.0360 - val_acc: 0.9912\n",
      "Epoch 11/20\n",
      "56000/56000 [==============================] - 26s 471us/step - loss: 0.0061 - acc: 0.9982 - val_loss: 0.0307 - val_acc: 0.9924\n",
      "Epoch 12/20\n",
      "56000/56000 [==============================] - 27s 475us/step - loss: 0.0043 - acc: 0.9986 - val_loss: 0.0348 - val_acc: 0.9919\n",
      "Epoch 13/20\n",
      "56000/56000 [==============================] - 27s 485us/step - loss: 0.0022 - acc: 0.9994 - val_loss: 0.0336 - val_acc: 0.9920\n",
      "Epoch 14/20\n",
      "56000/56000 [==============================] - 29s 511us/step - loss: 8.0763e-04 - acc: 0.9998 - val_loss: 0.0356 - val_acc: 0.9920\n",
      "Epoch 15/20\n",
      "56000/56000 [==============================] - 27s 479us/step - loss: 5.5481e-04 - acc: 0.9999 - val_loss: 0.0334 - val_acc: 0.9925\n",
      "Epoch 16/20\n",
      "56000/56000 [==============================] - 26s 470us/step - loss: 2.3435e-04 - acc: 0.9999 - val_loss: 0.0333 - val_acc: 0.9927\n",
      "Epoch 17/20\n",
      "56000/56000 [==============================] - 26s 472us/step - loss: 2.8159e-04 - acc: 0.9999 - val_loss: 0.0339 - val_acc: 0.9928\n",
      "Epoch 18/20\n",
      "56000/56000 [==============================] - 27s 473us/step - loss: 1.6868e-04 - acc: 1.0000 - val_loss: 0.0381 - val_acc: 0.9919\n",
      "Epoch 19/20\n",
      "56000/56000 [==============================] - 27s 476us/step - loss: 7.9397e-05 - acc: 1.0000 - val_loss: 0.0357 - val_acc: 0.9929\n",
      "Epoch 20/20\n",
      "56000/56000 [==============================] - 28s 492us/step - loss: 4.3030e-05 - acc: 1.0000 - val_loss: 0.0361 - val_acc: 0.9930\n",
      "14000/14000 [==============================] - 3s 203us/step\n",
      "> 99.300\n",
      "Train on 56000 samples, validate on 14000 samples\n",
      "Epoch 1/20\n",
      "56000/56000 [==============================] - 27s 480us/step - loss: 0.1252 - acc: 0.9607 - val_loss: 0.0567 - val_acc: 0.9826\n",
      "Epoch 2/20\n",
      "56000/56000 [==============================] - 27s 474us/step - loss: 0.0429 - acc: 0.9866 - val_loss: 0.0456 - val_acc: 0.9860\n",
      "Epoch 3/20\n",
      "56000/56000 [==============================] - 27s 475us/step - loss: 0.0290 - acc: 0.9907 - val_loss: 0.0429 - val_acc: 0.9874\n",
      "Epoch 4/20\n",
      "56000/56000 [==============================] - 26s 472us/step - loss: 0.0216 - acc: 0.9931 - val_loss: 0.0417 - val_acc: 0.9869\n",
      "Epoch 5/20\n",
      "56000/56000 [==============================] - 26s 469us/step - loss: 0.0159 - acc: 0.9945 - val_loss: 0.0504 - val_acc: 0.9862\n",
      "Epoch 6/20\n",
      "56000/56000 [==============================] - 27s 477us/step - loss: 0.0122 - acc: 0.9958 - val_loss: 0.0392 - val_acc: 0.9889\n",
      "Epoch 7/20\n",
      "56000/56000 [==============================] - 21s 378us/step - loss: 0.0092 - acc: 0.9969 - val_loss: 0.0380 - val_acc: 0.9897\n",
      "Epoch 8/20\n",
      "56000/56000 [==============================] - 22s 385us/step - loss: 0.0088 - acc: 0.9970 - val_loss: 0.0403 - val_acc: 0.9901\n",
      "Epoch 9/20\n",
      "56000/56000 [==============================] - 21s 382us/step - loss: 0.0054 - acc: 0.9983 - val_loss: 0.0398 - val_acc: 0.9906\n",
      "Epoch 10/20\n",
      "56000/56000 [==============================] - 21s 375us/step - loss: 0.0039 - acc: 0.9989 - val_loss: 0.0424 - val_acc: 0.9904\n",
      "Epoch 11/20\n",
      "56000/56000 [==============================] - 21s 376us/step - loss: 0.0036 - acc: 0.9989 - val_loss: 0.0471 - val_acc: 0.9895\n",
      "Epoch 12/20\n",
      "56000/56000 [==============================] - 21s 371us/step - loss: 0.0039 - acc: 0.9989 - val_loss: 0.0374 - val_acc: 0.9906\n",
      "Epoch 13/20\n",
      "56000/56000 [==============================] - 21s 377us/step - loss: 0.0020 - acc: 0.9996 - val_loss: 0.0453 - val_acc: 0.9909\n",
      "Epoch 14/20\n",
      "56000/56000 [==============================] - 21s 375us/step - loss: 9.1587e-04 - acc: 0.9998 - val_loss: 0.0446 - val_acc: 0.9910\n",
      "Epoch 15/20\n",
      "56000/56000 [==============================] - 21s 382us/step - loss: 6.6187e-04 - acc: 0.9999 - val_loss: 0.0503 - val_acc: 0.9910\n",
      "Epoch 16/20\n",
      "56000/56000 [==============================] - 23s 402us/step - loss: 4.4381e-04 - acc: 1.0000 - val_loss: 0.0457 - val_acc: 0.9916\n",
      "Epoch 17/20\n",
      "56000/56000 [==============================] - 21s 378us/step - loss: 3.6060e-04 - acc: 1.0000 - val_loss: 0.0473 - val_acc: 0.9916\n",
      "Epoch 18/20\n",
      "56000/56000 [==============================] - 21s 380us/step - loss: 3.3836e-04 - acc: 1.0000 - val_loss: 0.0479 - val_acc: 0.9915\n",
      "Epoch 19/20\n",
      "56000/56000 [==============================] - 21s 383us/step - loss: 3.2574e-04 - acc: 1.0000 - val_loss: 0.0488 - val_acc: 0.9916\n",
      "Epoch 20/20\n",
      "56000/56000 [==============================] - 22s 387us/step - loss: 3.2099e-04 - acc: 1.0000 - val_loss: 0.0494 - val_acc: 0.9915\n",
      "14000/14000 [==============================] - 2s 154us/step\n",
      "> 99.150\n"
     ]
    }
   ],
   "source": [
    "def neural_net(X, y, epochs = 5, folds=3):\n",
    "    scores = []\n",
    "    hist = []\n",
    "    kfold = KFold(folds, shuffle=True, random_state=1)\n",
    "    \n",
    "    for train_ix, val_ix in kfold.split(X):\n",
    "        model = Sequential()\n",
    "        model.add(Conv2D(32, (3, 3), activation='relu', kernel_initializer='he_uniform', input_shape=(28, 28, 1)))\n",
    "        model.add(MaxPooling2D((2, 2)))\n",
    "        model.add(Conv2D(64, (3, 3), activation='relu', kernel_initializer='he_uniform'))\n",
    "        model.add(Conv2D(64, (3, 3), activation='relu', kernel_initializer='he_uniform'))\n",
    "        model.add(MaxPooling2D((2, 2)))\n",
    "        model.add(Flatten())\n",
    "        model.add(Dense(100, activation='relu', kernel_initializer='he_uniform'))\n",
    "        model.add(Dense(10, activation='softmax'))\n",
    "        opt = SGD(lr=0.01, momentum=0.9)\n",
    "        model.compile(optimizer=opt, loss='categorical_crossentropy', metrics=['accuracy'])\n",
    "\n",
    "        trainX, trainY, valX, valY = X[train_ix], y[train_ix], X[val_ix], y[val_ix]\n",
    "        model.fit(trainX, trainY, epochs=epochs, batch_size=32, validation_data=(valX, valY), verbose=1)\n",
    "        \n",
    "        _, acc = model.evaluate(valX, valY, verbose=1)\n",
    "        print('> %.3f' % (acc * 100.0))\n",
    "        \n",
    "        scores.append(acc)\n",
    "        hist.append(model)\n",
    "        \n",
    "    return scores, hist\n",
    "    \n",
    "\n",
    "final = neural_net(X,y, epochs=20, folds=5)"
   ]
  },
  {
   "cell_type": "code",
   "execution_count": 17,
   "metadata": {},
   "outputs": [
    {
     "name": "stdout",
     "output_type": "stream",
     "text": [
      "[0.9924285714285714, 0.9921428571428571, 0.9920714285714286, 0.993, 0.9915]\n"
     ]
    },
    {
     "data": {
      "application/vnd.plotly.v1+json": {
       "config": {
        "plotlyServerURL": "https://plot.ly"
       },
       "data": [
        {
         "hovertemplate": "K-folds test number:=%{x}<br>Accuracy on validation data=%{y}<extra></extra>",
         "legendgroup": "",
         "marker": {
          "color": "#636efa",
          "symbol": "circle"
         },
         "mode": "markers",
         "name": "",
         "orientation": "v",
         "showlegend": false,
         "type": "scatter",
         "x": [
          1,
          2,
          3,
          4,
          5
         ],
         "xaxis": "x",
         "y": [
          0.9924285714285714,
          0.9921428571428571,
          0.9920714285714286,
          0.993,
          0.9915
         ],
         "yaxis": "y"
        }
       ],
       "layout": {
        "legend": {
         "tracegroupgap": 0
        },
        "margin": {
         "t": 60
        },
        "template": {
         "data": {
          "bar": [
           {
            "error_x": {
             "color": "#2a3f5f"
            },
            "error_y": {
             "color": "#2a3f5f"
            },
            "marker": {
             "line": {
              "color": "#E5ECF6",
              "width": 0.5
             }
            },
            "type": "bar"
           }
          ],
          "barpolar": [
           {
            "marker": {
             "line": {
              "color": "#E5ECF6",
              "width": 0.5
             }
            },
            "type": "barpolar"
           }
          ],
          "carpet": [
           {
            "aaxis": {
             "endlinecolor": "#2a3f5f",
             "gridcolor": "white",
             "linecolor": "white",
             "minorgridcolor": "white",
             "startlinecolor": "#2a3f5f"
            },
            "baxis": {
             "endlinecolor": "#2a3f5f",
             "gridcolor": "white",
             "linecolor": "white",
             "minorgridcolor": "white",
             "startlinecolor": "#2a3f5f"
            },
            "type": "carpet"
           }
          ],
          "choropleth": [
           {
            "colorbar": {
             "outlinewidth": 0,
             "ticks": ""
            },
            "type": "choropleth"
           }
          ],
          "contour": [
           {
            "colorbar": {
             "outlinewidth": 0,
             "ticks": ""
            },
            "colorscale": [
             [
              0,
              "#0d0887"
             ],
             [
              0.1111111111111111,
              "#46039f"
             ],
             [
              0.2222222222222222,
              "#7201a8"
             ],
             [
              0.3333333333333333,
              "#9c179e"
             ],
             [
              0.4444444444444444,
              "#bd3786"
             ],
             [
              0.5555555555555556,
              "#d8576b"
             ],
             [
              0.6666666666666666,
              "#ed7953"
             ],
             [
              0.7777777777777778,
              "#fb9f3a"
             ],
             [
              0.8888888888888888,
              "#fdca26"
             ],
             [
              1,
              "#f0f921"
             ]
            ],
            "type": "contour"
           }
          ],
          "contourcarpet": [
           {
            "colorbar": {
             "outlinewidth": 0,
             "ticks": ""
            },
            "type": "contourcarpet"
           }
          ],
          "heatmap": [
           {
            "colorbar": {
             "outlinewidth": 0,
             "ticks": ""
            },
            "colorscale": [
             [
              0,
              "#0d0887"
             ],
             [
              0.1111111111111111,
              "#46039f"
             ],
             [
              0.2222222222222222,
              "#7201a8"
             ],
             [
              0.3333333333333333,
              "#9c179e"
             ],
             [
              0.4444444444444444,
              "#bd3786"
             ],
             [
              0.5555555555555556,
              "#d8576b"
             ],
             [
              0.6666666666666666,
              "#ed7953"
             ],
             [
              0.7777777777777778,
              "#fb9f3a"
             ],
             [
              0.8888888888888888,
              "#fdca26"
             ],
             [
              1,
              "#f0f921"
             ]
            ],
            "type": "heatmap"
           }
          ],
          "heatmapgl": [
           {
            "colorbar": {
             "outlinewidth": 0,
             "ticks": ""
            },
            "colorscale": [
             [
              0,
              "#0d0887"
             ],
             [
              0.1111111111111111,
              "#46039f"
             ],
             [
              0.2222222222222222,
              "#7201a8"
             ],
             [
              0.3333333333333333,
              "#9c179e"
             ],
             [
              0.4444444444444444,
              "#bd3786"
             ],
             [
              0.5555555555555556,
              "#d8576b"
             ],
             [
              0.6666666666666666,
              "#ed7953"
             ],
             [
              0.7777777777777778,
              "#fb9f3a"
             ],
             [
              0.8888888888888888,
              "#fdca26"
             ],
             [
              1,
              "#f0f921"
             ]
            ],
            "type": "heatmapgl"
           }
          ],
          "histogram": [
           {
            "marker": {
             "colorbar": {
              "outlinewidth": 0,
              "ticks": ""
             }
            },
            "type": "histogram"
           }
          ],
          "histogram2d": [
           {
            "colorbar": {
             "outlinewidth": 0,
             "ticks": ""
            },
            "colorscale": [
             [
              0,
              "#0d0887"
             ],
             [
              0.1111111111111111,
              "#46039f"
             ],
             [
              0.2222222222222222,
              "#7201a8"
             ],
             [
              0.3333333333333333,
              "#9c179e"
             ],
             [
              0.4444444444444444,
              "#bd3786"
             ],
             [
              0.5555555555555556,
              "#d8576b"
             ],
             [
              0.6666666666666666,
              "#ed7953"
             ],
             [
              0.7777777777777778,
              "#fb9f3a"
             ],
             [
              0.8888888888888888,
              "#fdca26"
             ],
             [
              1,
              "#f0f921"
             ]
            ],
            "type": "histogram2d"
           }
          ],
          "histogram2dcontour": [
           {
            "colorbar": {
             "outlinewidth": 0,
             "ticks": ""
            },
            "colorscale": [
             [
              0,
              "#0d0887"
             ],
             [
              0.1111111111111111,
              "#46039f"
             ],
             [
              0.2222222222222222,
              "#7201a8"
             ],
             [
              0.3333333333333333,
              "#9c179e"
             ],
             [
              0.4444444444444444,
              "#bd3786"
             ],
             [
              0.5555555555555556,
              "#d8576b"
             ],
             [
              0.6666666666666666,
              "#ed7953"
             ],
             [
              0.7777777777777778,
              "#fb9f3a"
             ],
             [
              0.8888888888888888,
              "#fdca26"
             ],
             [
              1,
              "#f0f921"
             ]
            ],
            "type": "histogram2dcontour"
           }
          ],
          "mesh3d": [
           {
            "colorbar": {
             "outlinewidth": 0,
             "ticks": ""
            },
            "type": "mesh3d"
           }
          ],
          "parcoords": [
           {
            "line": {
             "colorbar": {
              "outlinewidth": 0,
              "ticks": ""
             }
            },
            "type": "parcoords"
           }
          ],
          "pie": [
           {
            "automargin": true,
            "type": "pie"
           }
          ],
          "scatter": [
           {
            "marker": {
             "colorbar": {
              "outlinewidth": 0,
              "ticks": ""
             }
            },
            "type": "scatter"
           }
          ],
          "scatter3d": [
           {
            "line": {
             "colorbar": {
              "outlinewidth": 0,
              "ticks": ""
             }
            },
            "marker": {
             "colorbar": {
              "outlinewidth": 0,
              "ticks": ""
             }
            },
            "type": "scatter3d"
           }
          ],
          "scattercarpet": [
           {
            "marker": {
             "colorbar": {
              "outlinewidth": 0,
              "ticks": ""
             }
            },
            "type": "scattercarpet"
           }
          ],
          "scattergeo": [
           {
            "marker": {
             "colorbar": {
              "outlinewidth": 0,
              "ticks": ""
             }
            },
            "type": "scattergeo"
           }
          ],
          "scattergl": [
           {
            "marker": {
             "colorbar": {
              "outlinewidth": 0,
              "ticks": ""
             }
            },
            "type": "scattergl"
           }
          ],
          "scattermapbox": [
           {
            "marker": {
             "colorbar": {
              "outlinewidth": 0,
              "ticks": ""
             }
            },
            "type": "scattermapbox"
           }
          ],
          "scatterpolar": [
           {
            "marker": {
             "colorbar": {
              "outlinewidth": 0,
              "ticks": ""
             }
            },
            "type": "scatterpolar"
           }
          ],
          "scatterpolargl": [
           {
            "marker": {
             "colorbar": {
              "outlinewidth": 0,
              "ticks": ""
             }
            },
            "type": "scatterpolargl"
           }
          ],
          "scatterternary": [
           {
            "marker": {
             "colorbar": {
              "outlinewidth": 0,
              "ticks": ""
             }
            },
            "type": "scatterternary"
           }
          ],
          "surface": [
           {
            "colorbar": {
             "outlinewidth": 0,
             "ticks": ""
            },
            "colorscale": [
             [
              0,
              "#0d0887"
             ],
             [
              0.1111111111111111,
              "#46039f"
             ],
             [
              0.2222222222222222,
              "#7201a8"
             ],
             [
              0.3333333333333333,
              "#9c179e"
             ],
             [
              0.4444444444444444,
              "#bd3786"
             ],
             [
              0.5555555555555556,
              "#d8576b"
             ],
             [
              0.6666666666666666,
              "#ed7953"
             ],
             [
              0.7777777777777778,
              "#fb9f3a"
             ],
             [
              0.8888888888888888,
              "#fdca26"
             ],
             [
              1,
              "#f0f921"
             ]
            ],
            "type": "surface"
           }
          ],
          "table": [
           {
            "cells": {
             "fill": {
              "color": "#EBF0F8"
             },
             "line": {
              "color": "white"
             }
            },
            "header": {
             "fill": {
              "color": "#C8D4E3"
             },
             "line": {
              "color": "white"
             }
            },
            "type": "table"
           }
          ]
         },
         "layout": {
          "annotationdefaults": {
           "arrowcolor": "#2a3f5f",
           "arrowhead": 0,
           "arrowwidth": 1
          },
          "autotypenumbers": "strict",
          "coloraxis": {
           "colorbar": {
            "outlinewidth": 0,
            "ticks": ""
           }
          },
          "colorscale": {
           "diverging": [
            [
             0,
             "#8e0152"
            ],
            [
             0.1,
             "#c51b7d"
            ],
            [
             0.2,
             "#de77ae"
            ],
            [
             0.3,
             "#f1b6da"
            ],
            [
             0.4,
             "#fde0ef"
            ],
            [
             0.5,
             "#f7f7f7"
            ],
            [
             0.6,
             "#e6f5d0"
            ],
            [
             0.7,
             "#b8e186"
            ],
            [
             0.8,
             "#7fbc41"
            ],
            [
             0.9,
             "#4d9221"
            ],
            [
             1,
             "#276419"
            ]
           ],
           "sequential": [
            [
             0,
             "#0d0887"
            ],
            [
             0.1111111111111111,
             "#46039f"
            ],
            [
             0.2222222222222222,
             "#7201a8"
            ],
            [
             0.3333333333333333,
             "#9c179e"
            ],
            [
             0.4444444444444444,
             "#bd3786"
            ],
            [
             0.5555555555555556,
             "#d8576b"
            ],
            [
             0.6666666666666666,
             "#ed7953"
            ],
            [
             0.7777777777777778,
             "#fb9f3a"
            ],
            [
             0.8888888888888888,
             "#fdca26"
            ],
            [
             1,
             "#f0f921"
            ]
           ],
           "sequentialminus": [
            [
             0,
             "#0d0887"
            ],
            [
             0.1111111111111111,
             "#46039f"
            ],
            [
             0.2222222222222222,
             "#7201a8"
            ],
            [
             0.3333333333333333,
             "#9c179e"
            ],
            [
             0.4444444444444444,
             "#bd3786"
            ],
            [
             0.5555555555555556,
             "#d8576b"
            ],
            [
             0.6666666666666666,
             "#ed7953"
            ],
            [
             0.7777777777777778,
             "#fb9f3a"
            ],
            [
             0.8888888888888888,
             "#fdca26"
            ],
            [
             1,
             "#f0f921"
            ]
           ]
          },
          "colorway": [
           "#636efa",
           "#EF553B",
           "#00cc96",
           "#ab63fa",
           "#FFA15A",
           "#19d3f3",
           "#FF6692",
           "#B6E880",
           "#FF97FF",
           "#FECB52"
          ],
          "font": {
           "color": "#2a3f5f"
          },
          "geo": {
           "bgcolor": "white",
           "lakecolor": "white",
           "landcolor": "#E5ECF6",
           "showlakes": true,
           "showland": true,
           "subunitcolor": "white"
          },
          "hoverlabel": {
           "align": "left"
          },
          "hovermode": "closest",
          "mapbox": {
           "style": "light"
          },
          "paper_bgcolor": "white",
          "plot_bgcolor": "#E5ECF6",
          "polar": {
           "angularaxis": {
            "gridcolor": "white",
            "linecolor": "white",
            "ticks": ""
           },
           "bgcolor": "#E5ECF6",
           "radialaxis": {
            "gridcolor": "white",
            "linecolor": "white",
            "ticks": ""
           }
          },
          "scene": {
           "xaxis": {
            "backgroundcolor": "#E5ECF6",
            "gridcolor": "white",
            "gridwidth": 2,
            "linecolor": "white",
            "showbackground": true,
            "ticks": "",
            "zerolinecolor": "white"
           },
           "yaxis": {
            "backgroundcolor": "#E5ECF6",
            "gridcolor": "white",
            "gridwidth": 2,
            "linecolor": "white",
            "showbackground": true,
            "ticks": "",
            "zerolinecolor": "white"
           },
           "zaxis": {
            "backgroundcolor": "#E5ECF6",
            "gridcolor": "white",
            "gridwidth": 2,
            "linecolor": "white",
            "showbackground": true,
            "ticks": "",
            "zerolinecolor": "white"
           }
          },
          "shapedefaults": {
           "line": {
            "color": "#2a3f5f"
           }
          },
          "ternary": {
           "aaxis": {
            "gridcolor": "white",
            "linecolor": "white",
            "ticks": ""
           },
           "baxis": {
            "gridcolor": "white",
            "linecolor": "white",
            "ticks": ""
           },
           "bgcolor": "#E5ECF6",
           "caxis": {
            "gridcolor": "white",
            "linecolor": "white",
            "ticks": ""
           }
          },
          "title": {
           "x": 0.05
          },
          "xaxis": {
           "automargin": true,
           "gridcolor": "white",
           "linecolor": "white",
           "ticks": "",
           "title": {
            "standoff": 15
           },
           "zerolinecolor": "white",
           "zerolinewidth": 2
          },
          "yaxis": {
           "automargin": true,
           "gridcolor": "white",
           "linecolor": "white",
           "ticks": "",
           "title": {
            "standoff": 15
           },
           "zerolinecolor": "white",
           "zerolinewidth": 2
          }
         }
        },
        "xaxis": {
         "anchor": "y",
         "domain": [
          0,
          1
         ],
         "tickformat": ",d",
         "title": {
          "text": "K-folds test number:"
         }
        },
        "yaxis": {
         "anchor": "x",
         "domain": [
          0,
          1
         ],
         "range": [
          0,
          1
         ],
         "title": {
          "text": "Accuracy on validation data"
         }
        }
       }
      }
     },
     "metadata": {},
     "output_type": "display_data"
    }
   ],
   "source": [
    "print(final[0])\n",
    "tests = list(range(1,len(final[0])+1))\n",
    "\n",
    "fig = px.scatter(x = tests, y = final[0], labels=dict(x=\"K-folds test number:\", y=\"Accuracy on validation data\"))\n",
    "\n",
    "fig.update_layout(xaxis={'tickformat': ',d'})\n",
    "fig.update_layout(yaxis_range=[0,1])"
   ]
  },
  {
   "cell_type": "markdown",
   "metadata": {},
   "source": [
    "By using kfolds and plotting the graph above we see that the data is not overfitted to the specific data-split and we can assume it is generilzed for unseen data. We now choose the best performing model and test it on unseen data."
   ]
  },
  {
   "cell_type": "code",
   "execution_count": 18,
   "metadata": {},
   "outputs": [
    {
     "name": "stdout",
     "output_type": "stream",
     "text": [
      "              precision    recall  f1-score   support\n",
      "\n",
      "           0       1.00      1.00      1.00       685\n",
      "           1       1.00      1.00      1.00       778\n",
      "           2       1.00      1.00      1.00       671\n",
      "           3       1.00      1.00      1.00       690\n",
      "           4       1.00      1.00      1.00       733\n",
      "           5       1.00      1.00      1.00       644\n",
      "           6       1.00      1.00      1.00       729\n",
      "           7       1.00      1.00      1.00       694\n",
      "           8       1.00      1.00      1.00       670\n",
      "           9       1.00      1.00      1.00       706\n",
      "\n",
      "    accuracy                           1.00      7000\n",
      "   macro avg       1.00      1.00      1.00      7000\n",
      "weighted avg       1.00      1.00      1.00      7000\n",
      "\n",
      "keras Sequential Test data accuracy: 99.87%\n"
     ]
    }
   ],
   "source": [
    "best_model = final[1][final[0].index(max(final[0]))]\n",
    "\n",
    "pred = best_model.predict_classes(X_test)\n",
    "y_test_digits = [np.argmax(dig) for dig in y_test]\n",
    "print(classification_report(y_test_digits, pred))\n",
    "\n",
    "print(\"keras Sequential Test data accuracy: {:3.2f}%\".format(accuracy_score(y_test_digits, pred)*100))"
   ]
  },
  {
   "cell_type": "markdown",
   "metadata": {},
   "source": [
    "## What is your final classifier and how does it work.\n",
    "\n",
    "We choose the Sequential neural net model as our final classifier with accuracy of 99.89%. Its details are described above\n",
    "Neural net\n",
    "## How  well  it  is  expected  to  perform  in  production  (on  unseen  data).Justify your estimate\n",
    "We expect it to perform good by classifying almost all (99%) of unsees digits\n",
    "\n",
    "## Measures taken to avoid overfitting\n",
    "We tested the final model with folding data dataset to ensure that the split does not affect model performance. We also clearly splitted the set into train, validation and test which were used for each their part of assesing and improving the model.\n",
    "\n",
    "## Given more resources (time or computing resources),  how would you improve your solution\n",
    "More Epochs and K-folds if i had a stronger GPU. Also i had to use older versions of CUDA, CUDNN, Tenserflow and Keras to work with my GPU. Current versions of the library may be better optimized and produce better results. "
   ]
  },
  {
   "cell_type": "markdown",
   "metadata": {},
   "source": [
    "## Summary\n",
    "should  give  a  short,  non-technical  overview  of  yourproject.  You should also argue,  based on your results,  whether or not themachine learning approach is appropriate for this task and what is your ex-pectation of its performance in real-life"
   ]
  }
 ],
 "metadata": {
  "interpreter": {
   "hash": "d115402de96f45811036f2aa9f4e8623b958b1e08bb4707319b39530c957fa33"
  },
  "kernelspec": {
   "display_name": "Python 3.6.5 64-bit ('tf': conda)",
   "name": "python3"
  },
  "language_info": {
   "codemirror_mode": {
    "name": "ipython",
    "version": 3
   },
   "file_extension": ".py",
   "mimetype": "text/x-python",
   "name": "python",
   "nbconvert_exporter": "python",
   "pygments_lexer": "ipython3",
   "version": "3.6.5"
  }
 },
 "nbformat": 4,
 "nbformat_minor": 2
}
