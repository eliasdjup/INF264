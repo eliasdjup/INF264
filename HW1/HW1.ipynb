{
 "cells": [
  {
   "cell_type": "markdown",
   "metadata": {},
   "source": [
    "# $k$-NN for a classification problem on the Iris dataset\n",
    "\n",
    "In this notebook we will train a $k$-nn classifier on [iris](https://scikit-learn.org/stable/modules/generated/sklearn.datasets.load_iris.html#sklearn.datasets.load_iris) data using the class [KNeighborsClassifier](https://scikit-learn.org/stable/modules/generated/sklearn.neighbors.KNeighborsClassifier.html#sklearn-neighbors-kneighborsclassifier) from the python library [scikit-learn](https://scikit-learn.org/stable/index.html) \n",
    "\n",
    "Since it is the first exercice, instructions will be as detailed as possible. But it won't always be the case! \n",
    "\n",
    "You can choose to:\n",
    "- Start from scratch if you feel more comfortable with your own code\n",
    "- Code mostly on your own and from time to time get inspired by (aka copy/paste :)) this notebook (recommended, especially for the plotting parts)\n",
    "- Try to fit exactly to this notebook. If your not familiar at all with python it could be a good option but otherwise try at least to think about how you would do without any help. "
   ]
  },
  {
   "cell_type": "code",
   "execution_count": 29,
   "metadata": {},
   "outputs": [],
   "source": [
    "import numpy as np\n",
    "import matplotlib.pyplot as plt\n",
    "from matplotlib.colors import ListedColormap\n",
    "from sklearn import neighbors, datasets, model_selection"
   ]
  },
  {
   "cell_type": "markdown",
   "metadata": {},
   "source": [
    "### Iris dataset\n",
    "\n",
    "- Load iris data set using [datasets.load_iris()](https://scikit-learn.org/stable/modules/generated/sklearn.datasets.load_iris.html#sklearn.datasets.load_iris)\n",
    "- Use [model_selection.train_test_split()](https://scikit-learn.org/stable/modules/generated/sklearn.model_selection.train_test_split.html#sklearn-model-selection-train-test-split) to split your dataset into 2 datasets: a training one and a testing one. To split your dataset into 3 simply call this function twice, first to separate trainind data set from validation and test and then to separate validation from test\n"
   ]
  },
  {
   "cell_type": "code",
   "execution_count": 30,
   "metadata": {
    "tags": []
   },
   "outputs": [
    {
     "name": "stdout",
     "output_type": "stream",
     "text": [
      "Datapoints used for training:    105\n",
      "Datapoints used for validation:  22\n",
      "Datapoints used for testing :    23\n"
     ]
    }
   ],
   "source": [
    "iris = datasets.load_iris()   # Load Iris dataset\n",
    "X = iris.data[:, :2]          # Store the first 2 features    \n",
    "Y = iris.target               # Store the labels\n",
    "\n",
    "\n",
    "seed = 666                    # Fix random seed for reproducibility\n",
    "# Shuffle and split the data into train and a concatenation of validation and test sets with a ratio of 0.7/0.3:\n",
    "X_train, X_val_test, Y_train, Y_val_test = model_selection.train_test_split(X, Y, \n",
    "                                                                            train_size=0.7, \n",
    "                                                                            shuffle=True, \n",
    "                                                                            random_state=seed)\n",
    "\n",
    "seed = 221\n",
    "X_val, X_test, Y_val, Y_test = model_selection.train_test_split(X_val_test, Y_val_test, \n",
    "                                                                            train_size=0.5, \n",
    "                                                                            shuffle=True, \n",
    "                                                                            random_state=seed)\n",
    "\n",
    "# Store number of datapoints in each dataset:\n",
    "N_train = len(Y_train)\n",
    "N_val =  len(Y_val)\n",
    "N_test = len(Y_test)\n",
    "print(\"Datapoints used for training:   \", N_train)\n",
    "print(\"Datapoints used for validation: \", N_val)\n",
    "print(\"Datapoints used for testing :   \", N_test)\n"
   ]
  },
  {
   "cell_type": "markdown",
   "metadata": {},
   "source": [
    "### Plots parameters\n",
    "\n",
    "Here is an example of colors you can use for the 3 classes with \n",
    "- a light version for the validation points, testing points, and decision boundaries\n",
    "- a bold version for the training points"
   ]
  },
  {
   "cell_type": "code",
   "execution_count": 31,
   "metadata": {},
   "outputs": [],
   "source": [
    "### Plot parameters:\n",
    "# Light colors for decision boundaries plots:\n",
    "cmap_light = ListedColormap(['orange', 'cyan', 'cornflowerblue'])\n",
    "cmap_bold = ListedColormap(['red', 'darkcyan', 'darkblue'])"
   ]
  },
  {
   "cell_type": "markdown",
   "metadata": {},
   "source": [
    "### Main functions\n",
    "\n",
    "**plot_iris**\n",
    "- To plot a scatter plot of y VS x in python we use [plt.scatter()](https://matplotlib.org/3.3.0/api/_as_gen/matplotlib.pyplot.scatter.html#matplotlib-pyplot-scatter)\n",
    "\n",
    "**knn_on_iris**\n",
    "- To create an instance of the KNeighborsClassifier class use the constructor [neighbors.KNeighborsClassifier()](https://scikit-learn.org/stable/modules/generated/sklearn.neighbors.KNeighborsClassifier.html#sklearn-neighbors-kneighborsclassifier)\n",
    "- To train your instance of KNeighborsClassifier use [KNeighborsClassifier.fit()](https://scikit-learn.org/stable/modules/generated/sklearn.neighbors.KNeighborsClassifier.html#sklearn.neighbors.KNeighborsClassifier.fit)\n",
    "- Once trained you can use [KNeighborsClassifier.predict()](https://scikit-learn.org/stable/modules/generated/sklearn.neighbors.KNeighborsClassifier.html#sklearn.neighbors.KNeighborsClassifier.predict) to predict the iris class of a datapoint or of a gridpoint\n",
    "\n",
    "**draw_knn_boundaries**\n",
    "- To plot a color plot we use [pcolormesh()](https://matplotlib.org/api/_as_gen/matplotlib.pyplot.pcolormesh.html#matplotlib-pyplot-pcolormesh). To draw the decision boundaries, the idea is to create a meshgrid and to let the knn decides to which color each gridpoint belongs "
   ]
  },
  {
   "cell_type": "code",
   "execution_count": 32,
   "metadata": {},
   "outputs": [],
   "source": [
    "def plot_iris(\n",
    "    X_train,\n",
    "    Y_train,\n",
    "    X_val_test,\n",
    "    Y_val_test,\n",
    "):\n",
    "    \"\"\"\n",
    "    Scatter plots of training and testing iris datapoints\n",
    "\n",
    "    Colors represent specific iris species \n",
    "    Validation or test points appear in light colors\n",
    "    Training points appear in bold colors\n",
    "    \"\"\"\n",
    "    # Matplotlib method to get current axis\n",
    "    ax = plt.gca()    \n",
    "    # Scatter plot validation or testing points using light colors\n",
    "    ax.scatter(\n",
    "        X_val_test[:,0], X_val_test[:,1], c=Y_val_test,\n",
    "        cmap=cmap_light, edgecolor='k', s=20, zorder=2\n",
    "    )\n",
    "    # Overlay the training points in bold colors:\n",
    "    ax.scatter(\n",
    "        X_train[:,0], X_train[:,1], c=Y_train,\n",
    "        cmap=cmap_bold, edgecolor='k', s=20, zorder=2\n",
    "    )\n",
    "    \n",
    "    plt.xlabel('Sepal length')\n",
    "    plt.ylabel('Sepal width')\n",
    "    return ax\n",
    "\n",
    "\n",
    "def draw_knn_boundaries(\n",
    "    knn, \n",
    "    h=0.02,  # Step size in the mesh\n",
    "):\n",
    "    \"\"\"\n",
    "    Draw boundaries as decided by the trained knn\n",
    "    \"\"\"\n",
    "    ax = plt.gca()\n",
    "    [xmin, xmax] = ax.get_xlim()\n",
    "    [ymin, ymax] = ax.get_ylim()\n",
    "    # Generate the axis associated to the first feature: \n",
    "    x_axis = np.arange(xmin, xmax, h)\n",
    "    # Generate the axis associated to the 2nd feature: \n",
    "    y_axis = np.arange(ymin, ymax, h)\n",
    "    # Generate a meshgrid (2D grid) from the 2 axis:\n",
    "    x_grid, y_grid = np.meshgrid(x_axis, y_axis)\n",
    "    # Vectorize the grids into column vectors:\n",
    "    x_grid_vectorized = x_grid.flatten()\n",
    "    x_grid_vectorized = np.expand_dims(x_grid_vectorized, axis=1)\n",
    "    y_grid_vectorized = y_grid.flatten()\n",
    "    y_grid_vectorized = np.expand_dims(y_grid_vectorized, axis=1)\n",
    "    # Concatenate the vectorized grids\n",
    "    grid = np.concatenate((x_grid_vectorized, y_grid_vectorized),\n",
    "                                  axis=1)\n",
    "    # Now you can use 'grid' as data to classify by the knn \n",
    "\n",
    "    # Predict concatenated features to get the decision boundaries:\n",
    "    decision_boundaries = knn.predict(grid)\n",
    "\n",
    "    # Reshape the decision boundaries into a 2D matrix:\n",
    "    decision_boundaries = decision_boundaries.reshape(x_grid.shape)\n",
    "    plt.pcolormesh(x_grid, y_grid, decision_boundaries, cmap=cmap_light, zorder=1)\n",
    "    return ax\n",
    "\n",
    "# Main work here:\n",
    "def knn_on_iris(\n",
    "    k,\n",
    "    X_train,\n",
    "    Y_train,\n",
    "    X_val,\n",
    "    Y_val,\n",
    "):\n",
    "    \"\"\"\n",
    "    Train a knn and plot its boundaries on iris data\n",
    "    \"\"\"\n",
    "\n",
    "    # --------------------\n",
    "    # Plot iris data\n",
    "    # --------------------\n",
    "    plot_iris(X_train, Y_train, X_val, Y_val) #TODO!\n",
    "\n",
    "    # --------------------\n",
    "    # Train the knn\n",
    "    # --------------------\n",
    "\n",
    "    # Create an instance of the KNeighborsClassifier class for current value of k:\n",
    "    k_NN = neighbors.KNeighborsClassifier(n_neighbors=k)\n",
    "    \n",
    "    # Train the classifier with the training data\n",
    "    k_NN.fit(X_train,Y_train)\n",
    "\n",
    "    # --------------------\n",
    "    # Draw knn boundaries\n",
    "    # --------------------\n",
    "    draw_knn_boundaries(k_NN) #TODO!\n",
    "    plt.title(\"k-NN classification on Iris, k = \" + str(k_NN.get_params().get(\"n_neighbors\")))\n",
    "    plt.show()\n",
    "\n",
    "    # --------------------\n",
    "    # Model accuracy:\n",
    "    # --------------------\n",
    "\n",
    "    # Accuracy on train set:\n",
    "    \n",
    "    train_predictions = k_NN.predict(X_train)\n",
    "    good_train_predictions = (train_predictions == Y_train)\n",
    "    train_accuracy = np.sum(good_train_predictions) / len(X_train)\n",
    "    # Accuracy on test set:\n",
    "    val_predictions = k_NN.predict(X_val)\n",
    "    good_val_predictions = (val_predictions == Y_val)\n",
    "    val_accuracy = np.sum(good_val_predictions) / len(X_val)\n",
    "    \n",
    "    return (k_NN, train_accuracy, val_accuracy)"
   ]
  },
  {
   "cell_type": "markdown",
   "metadata": {},
   "source": [
    "### Evaluate your $k$-nn"
   ]
  },
  {
   "cell_type": "code",
   "execution_count": 33,
   "metadata": {
    "tags": []
   },
   "outputs": [
    {
     "name": "stdout",
     "output_type": "stream",
     "text": [
      "K-nn trained with k =  1\n",
      "Train accuracy:  0.9333333333333333  -----  Validation accuracy:  0.7272727272727273\n",
      "K-nn trained with k =  5\n",
      "Train accuracy:  0.8571428571428571  -----  Validation accuracy:  0.7272727272727273\n",
      "K-nn trained with k =  10\n",
      "Train accuracy:  0.8  -----  Validation accuracy:  0.7272727272727273\n",
      "K-nn trained with k =  20\n",
      "Train accuracy:  0.7714285714285715  -----  Validation accuracy:  0.8636363636363636\n",
      "K-nn trained with k =  30\n",
      "Train accuracy:  0.780952380952381  -----  Validation accuracy:  0.8636363636363636\n"
     ]
    },
    {
     "data": {
      "image/png": "[encoded data removed]",
      "text/plain": [
       "<Figure size 432x288 with 1 Axes>"
      ]
     },
     "metadata": {
      "needs_background": "light"
     },
     "output_type": "display_data"
    }
   ],
   "source": [
    "### k-NN on the Iris dataset for different values of k:\n",
    "# Create vectors to store the results for each k:\n",
    "train_accuracies = []\n",
    "val_accuracies = []\n",
    "\n",
    "# Train a knn for each value of k in k_list\n",
    "k_list = [1, 5, 10, 20, 30]\n",
    "for k in k_list:\n",
    "    \n",
    "    k_NN = neighbors.KNeighborsClassifier(n_neighbors=k)\n",
    "    \n",
    "    # Train the classifier with the training data\n",
    "    k_NN.fit(X_train,Y_train)\n",
    "    \n",
    "    train_acc = k_NN.score(X_train, Y_train)\n",
    "    val_acc = k_NN.score(X_val, Y_val)\n",
    "    \n",
    "    print(\"K-nn trained with k = \", k)\n",
    "    print(\"Train accuracy: \", train_acc, \" ----- \", \"Validation accuracy: \", val_acc)\n",
    "    train_accuracies.append(train_acc)\n",
    "    val_accuracies.append(val_acc)\n",
    "\n",
    "# Plot accuracy curves:\n",
    "plt.plot(k_list, train_accuracies)\n",
    "plt.plot(k_list, val_accuracies)\n",
    "plt.ylim(0, 1)\n",
    "plt.xlabel('k')\n",
    "plt.ylabel('Accuracy')\n",
    "plt.legend(['Train', 'Validation'], loc='best')\n",
    "plt.title(\"k-NN accuracy curves on Iris\")\n",
    "\n",
    "# Display plots:\n",
    "plt.show()"
   ]
  },
  {
   "cell_type": "markdown",
   "metadata": {},
   "source": [
    "### Testing your selected model\n",
    "\n",
    "Now that you have trained several models and plot their accuracies, you can select one model that seems to work well and test it with the test dataset."
   ]
  },
  {
   "cell_type": "code",
   "execution_count": 34,
   "metadata": {},
   "outputs": [
    {
     "name": "stderr",
     "output_type": "stream",
     "text": [
      "/tmp/ipykernel_20357/1287990961.py:63: MatplotlibDeprecationWarning: shading='flat' when X and Y have the same dimensions as C is deprecated since 3.3.  Either specify the corners of the quadrilaterals with X and Y, or pass shading='auto', 'nearest' or 'gouraud', or set rcParams['pcolor.shading'].  This will become an error two minor releases later.\n",
      "  plt.pcolormesh(x_grid, y_grid, decision_boundaries, cmap=cmap_light, zorder=1)\n"
     ]
    },
    {
     "data": {
      "image/png": "[encoded data removed]",
      "text/plain": [
       "<Figure size 432x288 with 1 Axes>"
      ]
     },
     "metadata": {
      "needs_background": "light"
     },
     "output_type": "display_data"
    },
    {
     "name": "stdout",
     "output_type": "stream",
     "text": [
      "K-nn selected with k =  20\n",
      "Train accuracy:  0.780952380952381  -----  Validation accuracy:  0.8636363636363636\n",
      "Test accuracy:  0.8260869565217391\n"
     ]
    }
   ],
   "source": [
    "k_selected = 20\n",
    "(k_NN, train_accuracy, val_accuracy) = knn_on_iris(k_selected,\n",
    "    X_train,\n",
    "    Y_train,\n",
    "    X_val,\n",
    "    Y_val)\n",
    "\n",
    "    \n",
    "test_predictions = k_NN.predict(X_test)\n",
    "good_test_predictions = (test_predictions == Y_test)\n",
    "test_acc = np.sum(good_test_predictions) / len(X_test)\n",
    "print(\"K-nn selected with k = \", k_selected)\n",
    "print(\"Train accuracy: \", train_acc, \" ----- \", \"Validation accuracy: \", val_acc)\n",
    "print(\"Test accuracy: \", test_acc)"
   ]
  }
 ],
 "metadata": {
  "kernelspec": {
   "display_name": "Python 3 (ipykernel)",
   "language": "python",
   "name": "python3"
  },
  "language_info": {
   "codemirror_mode": {
    "name": "ipython",
    "version": 3
   },
   "file_extension": ".py",
   "mimetype": "text/x-python",
   "name": "python",
   "nbconvert_exporter": "python",
   "pygments_lexer": "ipython3",
   "version": "3.9.5"
  }
 },
 "nbformat": 4,
 "nbformat_minor": 4
}
